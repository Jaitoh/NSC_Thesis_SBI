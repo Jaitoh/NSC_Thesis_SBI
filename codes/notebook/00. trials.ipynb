{
 "cells": [
  {
   "cell_type": "code",
   "execution_count": 2,
   "metadata": {},
   "outputs": [],
   "source": [
    "# magic command to reload modules\n",
    "%load_ext autoreload\n",
    "%autoreload 2"
   ]
  },
  {
   "attachments": {},
   "cell_type": "markdown",
   "metadata": {},
   "source": [
    "## experiement trials analysis"
   ]
  },
  {
   "cell_type": "code",
   "execution_count": 3,
   "metadata": {},
   "outputs": [],
   "source": [
    "# append sys.path\n",
    "import sys\n",
    "sys.path.append('../src')\n",
    "\n",
    "from pathlib import Path\n",
    "\n",
    "import numpy as np\n",
    "import matplotlib.pyplot as plt\n",
    "\n",
    "from simulator.DM_model import DM_model\n",
    "from parse_data.decode_parameter import decode_mat_fitted_parameters\n",
    "from parse_data.parse_trial_data import parse_trial_data, compute_subject_acc, correctness_of_array\n",
    "import os"
   ]
  },
  {
   "cell_type": "code",
   "execution_count": 4,
   "metadata": {},
   "outputs": [],
   "source": [
    "import matplotlib as mpl\n",
    "# remove top and right axis from plots\n",
    "mpl.rcParams[\"axes.spines.right\"] = True\n",
    "mpl.rcParams[\"axes.spines.top\"] = True\n",
    "\n",
    "# remove all edges\n",
    "mpl.rcParams[\"axes.edgecolor\"] = \"k\"\n",
    "mpl.rcParams['axes.linewidth'] = 2\n",
    "\n",
    "font = {'family' : 'normal',\n",
    "        'weight' : 'bold',\n",
    "        'size'   : 22}\n",
    "mpl.rc('font', **font)"
   ]
  },
  {
   "cell_type": "code",
   "execution_count": 5,
   "metadata": {},
   "outputs": [
    {
     "name": "stdout",
     "output_type": "stream",
     "text": [
      "/home/wehe/tmp/NSC/codes/notebook\n"
     ]
    }
   ],
   "source": [
    "!pwd"
   ]
  },
  {
   "attachments": {},
   "cell_type": "markdown",
   "metadata": {
    "collapsed": false
   },
   "source": [
    "## "
   ]
  },
  {
   "cell_type": "code",
   "execution_count": 6,
   "metadata": {},
   "outputs": [
    {
     "name": "stdout",
     "output_type": "stream",
     "text": [
      "dict_keys(['pulse', 'dur', 'MS', 'nRight', 'nLeft', 'nPulse', 'hist_nRelse', 'hist_nLelse', 'hist_nRsame', 'hist_nLsame', 'hist_nRoppo', 'hist_nLoppo', 'chooseR', 'subjID', 'correct', 'info'])\n"
     ]
    }
   ],
   "source": [
    "from dataset.dataset_pipeline import seqC_pattern_summary, process_x_seqC_part\n",
    "import warnings\n",
    "\n",
    "config = {\n",
    "    'train_data':{\n",
    "        'seqC_process': 'summary',\n",
    "        'summary_type': 0,\n",
    "        },\n",
    "    \n",
    "}\n",
    "\n",
    "subj_id = 3\n",
    "chosen_dur_list = [3, 13]\n",
    "chosen_MS_list = [0.2, 0.8]\n",
    "\n",
    "data_path = '../../data'\n",
    "trial_data_path = os.path.join(data_path, 'trials.mat')\n",
    "trials = parse_trial_data(trial_data_path)\n",
    "print(trials.keys())"
   ]
  },
  {
   "cell_type": "code",
   "execution_count": 9,
   "metadata": {},
   "outputs": [],
   "source": [
    "subject_idx = trials['subjID']==subj_id\n",
    "subject_idx = subject_idx.reshape(-1)\n",
    "\n",
    "seqC_subj = trials['pulse'][subject_idx]\n",
    "MS_subj = trials['MS'][subject_idx][:,0]\n",
    "ch_subj = trials['chooseR'][subject_idx][:,0]\n",
    "dur_subj = trials['dur'][subject_idx][:,0]\n",
    "\n",
    "idx_chosen = [i for i in range(len(dur_subj)) if MS_subj[i] in chosen_MS_list and dur_subj[i] in chosen_dur_list]\n",
    "seqC_chosen = seqC_subj[idx_chosen]\n",
    "ch_chosen = ch_subj[idx_chosen].reshape(-1,1)\n",
    "\n",
    "x_seqC_chosen = process_x_seqC_part(seqC_chosen, config)\n",
    "# x_seqC_chosen = seqC_pattern_summary(seqC_chosen, summary_type=0)\n",
    "x_o_chosen = np.concatenate([x_seqC_chosen, ch_chosen], axis=-1) # DM*S, L_x+1\n",
    "\n",
    "# raise a warning if x_seqC_chosen.shape[0] != 700*len(chosen_dur_list)*len(chosen_MS_list)\n",
    "if x_seqC_chosen.shape[0] != 700*len(chosen_dur_list)*len(chosen_MS_list):\n",
    "    warnings.warn('x_seqC_chosen.shape[0] != 700*len(chosen_dur_list)*len(chosen_MS_list)')\n",
    "\n",
    "\n",
    "\n",
    "# for i in range(len(dur_subj)):\n",
    "#     if MS_subj[i] in chosen_MS_list and dur_subj[i] in chosen_dur_list:\n",
    "#         idx_chosen.append(i)\n",
    "\n",
    "\n",
    "\n",
    "# seqC_chosen = []\n",
    "# ch_chosen = []\n",
    "# for d in chosen_dur_list:\n",
    "#     dur_idx = np.where(dur_subj==d)[0]\n",
    "#     seqC_subj_dur = seqC_subj[dur_idx]\n",
    "#     MS_subj_dur = MS_subj[dur_idx]\n",
    "#     ch_subj_dur = ch_subj[dur_idx]\n",
    "    \n",
    "#     for ms in chosen_MS_list:\n",
    "#         ms_idx = np.where(MS_subj_dur==ms)[0]\n",
    "#         seqC_subj_dur_ms = seqC_subj_dur[ms_idx][:chosen_seqC_subset_len, :]\n",
    "#         ch_subj_dur_ms = ch_subj_dur[ms_idx][:chosen_seqC_subset_len]\n",
    "        \n",
    "#     seqC_chosen.append(seqC_subj_dur_ms)\n",
    "#     ch_chosen.append(ch_subj_dur_ms)\n",
    "\n",
    "# seqC_chosen_ = np.array(seqC_chosen)\n",
    "# DM, S, L_x = seqC_chosen_.shape\n",
    "# seqC_chosen=np.transpose(seqC_chosen_, (2, 0, 1)) # L_x, DM, S\n",
    "# seqC_chosen = seqC_chosen.reshape(L_x, DM*S)\n",
    "# seqC_chosen = np.transpose(seqC_chosen, (1, 0)) # DM*S, L_x\n",
    "\n",
    "# x_seqC = process_x_seqC_part(seqC_chosen, config)\n",
    "# # x_seqC = seqC_pattern_summary(seqC_chosen, summary_type=0)\n",
    "\n",
    "# ch_chosen_ = np.array(ch_chosen)\n",
    "# ch_chosen = ch_chosen_.reshape(-1,1) #\n",
    "\n",
    "# x_o_chosen = np.concatenate([seqC_chosen, ch_chosen], axis=-1) # DM*S, L_x+1"
   ]
  },
  {
   "cell_type": "code",
   "execution_count": 52,
   "metadata": {},
   "outputs": [
    {
     "data": {
      "text/plain": [
       "array([ True,  True, False, ...,  True, False,  True])"
      ]
     },
     "execution_count": 52,
     "metadata": {},
     "output_type": "execute_result"
    }
   ],
   "source": [
    "MS_subj == 0.4"
   ]
  },
  {
   "cell_type": "code",
   "execution_count": null,
   "metadata": {},
   "outputs": [],
   "source": [
    "seqC_subj_dur = seqC_subj[dur_idx[:,0],:]\n",
    "MS = trials['MS'][subject_idx][dur_idx]\n",
    "chosen_MS\n",
    "\n",
    "# preprocess seqC data\n",
    "x_seqC = process_x_seqC_part(seqC_subj_dur, config)\n",
    "# x_seqC = seqC_pattern_summary(seqC_subj, summary_type=0)\n",
    "# x_seqC = seqC_pattern_summary(seqC_subj, summary_type=1)\n",
    "\n",
    "# merge seqC and chooseR\n",
    "x_o = np.concatenate((x_seqC, ch_subj), axis=1)"
   ]
  },
  {
   "cell_type": "code",
   "execution_count": 153,
   "metadata": {},
   "outputs": [],
   "source": [
    "def get_xo(\n",
    "    trial_data_path='../..data/trials.mat',\n",
    "    subj_id = 2,\n",
    "    chosen_dur = 11, # 0 means all durations\n",
    "    ): # data observations\n",
    "\n",
    "    \n",
    "    trials = parse_trial_data(trial_data_path)\n",
    "\n",
    "    subject_idx = trials['subjID']==subj_id\n",
    "    subject_idx = subject_idx.reshape(-1)\n",
    "    seqC_subj = trials['pulse'][subject_idx]\n",
    "    ch_subj = trials['chooseR'][subject_idx]\n",
    "\n",
    "    dur = trials['dur'][subject_idx]\n",
    "    dur_idx = dur==chosen_dur\n",
    "    if chosen_dur == 0: # choose all durations\n",
    "        seqC_subj_dur = seqC_subj \n",
    "    else:\n",
    "        seqC_subj_dur = seqC_subj[dur_idx[:,0],:]\n",
    "\n",
    "    # preprocess seqC data\n",
    "    x_seqC = process_x_seqC_part(seqC_subj_dur, config)\n",
    "    # x_seqC = seqC_pattern_summary(seqC_subj, summary_type=0)\n",
    "    # x_seqC = seqC_pattern_summary(seqC_subj, summary_type=1)\n",
    "\n",
    "    # merge seqC and chooseR\n",
    "    x_o = np.concatenate((x_seqC, ch_subj), axis=1)\n",
    "    return x_o\n",
    "\n",
    "config = {\n",
    "    \n",
    "}\n",
    "get_xo(config, trial_data_path, subj_id = 2, chosen_dur = 11)"
   ]
  },
  {
   "cell_type": "code",
   "execution_count": 151,
   "metadata": {},
   "outputs": [
    {
     "data": {
      "text/plain": [
       "(14700, 9)"
      ]
     },
     "execution_count": 151,
     "metadata": {},
     "output_type": "execute_result"
    }
   ],
   "source": [
    "x_o.shape"
   ]
  },
  {
   "cell_type": "code",
   "execution_count": null,
   "metadata": {},
   "outputs": [],
   "source": []
  },
  {
   "cell_type": "markdown",
   "metadata": {},
   "source": []
  },
  {
   "cell_type": "code",
   "execution_count": 12,
   "metadata": {},
   "outputs": [
    {
     "name": "stdout",
     "output_type": "stream",
     "text": [
      "x.shape (2, 2, 2, 3, 5, 16) \ttheta.shape (2, 2, 2, 3, 5, 4)\n"
     ]
    }
   ],
   "source": [
    "import h5py\n",
    "import torch\n",
    "f = h5py.File('../../data/datasets/test_train_data.h5', 'r')\n",
    "theta = f['theta'][:]\n",
    "x = f['x'][:]\n",
    "f.close()\n",
    "print('x.shape', x.shape, '\\ttheta.shape', theta.shape)"
   ]
  },
  {
   "cell_type": "code",
   "execution_count": 13,
   "metadata": {},
   "outputs": [
    {
     "name": "stdout",
     "output_type": "stream",
     "text": [
      " D M S T C Lx Ltheta\n",
      " 2 2 2 3 5 16 4\n",
      "x.shape torch.Size([15, 8, 16]) theta.shape torch.Size([15, 4])\n"
     ]
    }
   ],
   "source": [
    "D,M,S,T,C,L_x = x.shape\n",
    "# 0,1,2,3,4,5\n",
    "_,_,_,_,_,L_theta = theta.shape\n",
    "print(' D M S T C Lx Ltheta\\n', D,M,S,T,C,L_x, L_theta)\n",
    "x = torch.from_numpy(x)\n",
    "theta = torch.from_numpy(theta)\n",
    "\n",
    "x_ = x.permute(0,3,4,5,1,2).reshape(D,T,C,L_x,M*S) # D,T,C,L_x,M*S\n",
    "x_ = x_.permute(0,1,2,4,3)  # D,T,C,M*S,L_x\n",
    "                            # 0,1,2,3  ,4\n",
    "\n",
    "theta_ = theta.permute(0,3,4,5,1,2).reshape(D,T,C,L_theta,M*S) # D,T,C,L_theta,M*S\n",
    "theta_ = theta_.permute(0,1,2,4,3)  # D,T,C,M*S,L_theta\n",
    "                                    # 0,1,2,3  ,4\n",
    "\n",
    "# randomize the order of the same duration D\n",
    "x_processed = torch.empty_like(x_)\n",
    "theta_processed = torch.empty_like(theta_)\n",
    "for d in range(D):\n",
    "    for t in range(T):\n",
    "        # for c in range(C):\n",
    "        x_temp = x_[d,t,:,:,:]\n",
    "        theta_temp = theta_[d,t,:,:,:]\n",
    "        \n",
    "        idx = torch.randperm(M*S)\n",
    "        x_processed[d,t,:,:,:] = x_temp[:,idx,:] # M*S,L_x\n",
    "        theta_processed[d,t,:,:,:] = theta_temp[:,idx,:] # M*S,L_theta\n",
    "\n",
    "# further reshape x_processed and theta_processed\n",
    "x_ = x_processed\n",
    "# to shape T,C,L_x,D,M*S\n",
    "x_ = x_.permute(1,2,4,0,3).reshape(T,C,L_x,D*M*S)# T,C,L_x,D*M*S\n",
    "                                                    # 0,1,2  ,3\n",
    "# to shape L_x, D*M*S, T, C\n",
    "x_ = x_.permute(2, 3, 0, 1).reshape(L_x, D*M*S, T*C) # L_x, D*M*S, T*C\n",
    "                                                    # 0  ,1     ,2\n",
    "x_ = x_.permute(2,1,0) # T*C, D*M*S, L_x\n",
    "# to shape T, C, D*M*S, L_x\n",
    "# x_ = x_.permute(0,1,3,2)\n",
    "\n",
    "theta_ = theta_processed\n",
    "# to shape T,C,L_theta,D,M*S\n",
    "theta_ = theta_.permute(1,2,4,0,3).reshape(T,C,L_theta,D*M*S) # T,C,L_theta,D*M*S\n",
    "                                                                # 0,1,2      ,3\n",
    "# to shape L_theta, D*M*S, T, C\n",
    "theta_ = theta_.permute(2, 3, 0, 1).reshape(L_theta, D*M*S, T*C) # L_theta, D*M*S, T*C\n",
    "                                                                # 0      ,1     ,2 \n",
    "theta_ = theta_.permute(2,1,0) # T*C, D*M*S, L_theta\n",
    "# to shape T, C, D*M*S, L_theta\n",
    "# theta_ = theta_.permute(0,1,3,2)\n",
    "\n",
    "# output shape: T*C, 0, L_theta\n",
    "theta_ = theta_[:,0,:]\n",
    "print('x.shape', x_.shape, 'theta.shape', theta_.shape)"
   ]
  },
  {
   "cell_type": "code",
   "execution_count": 143,
   "metadata": {},
   "outputs": [
    {
     "ename": "SyntaxError",
     "evalue": "can't use starred expression here (1871072887.py, line 4)",
     "output_type": "error",
     "traceback": [
      "\u001b[0;36m  File \u001b[0;32m\"/tmp/ipykernel_1550415/1871072887.py\"\u001b[0;36m, line \u001b[0;32m4\u001b[0m\n\u001b[0;31mSyntaxError\u001b[0m\u001b[0;31m:\u001b[0m can't use starred expression here\n"
     ]
    }
   ],
   "source": [
    "*a.shape"
   ]
  },
  {
   "cell_type": "code",
   "execution_count": null,
   "metadata": {},
   "outputs": [],
   "source": []
  }
 ],
 "metadata": {
  "kernelspec": {
   "display_name": "sbi",
   "language": "python",
   "name": "python3"
  },
  "language_info": {
   "codemirror_mode": {
    "name": "ipython",
    "version": 3
   },
   "file_extension": ".py",
   "mimetype": "text/x-python",
   "name": "python",
   "nbconvert_exporter": "python",
   "pygments_lexer": "ipython3",
   "version": "3.7.16"
  },
  "orig_nbformat": 4,
  "vscode": {
   "interpreter": {
    "hash": "594f951d3205a9849f51a997523cd1c1a299b5c52dda351e48e92277503e7015"
   }
  }
 },
 "nbformat": 4,
 "nbformat_minor": 2
}
