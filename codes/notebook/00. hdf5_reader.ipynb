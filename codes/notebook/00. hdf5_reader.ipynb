{
 "cells": [
  {
   "cell_type": "code",
   "execution_count": 2,
   "metadata": {},
   "outputs": [],
   "source": [
    "import h5py\n",
    "from h5glance import H5Glance"
   ]
  },
  {
   "cell_type": "code",
   "execution_count": 3,
   "metadata": {},
   "outputs": [
    {
     "name": "stdout",
     "output_type": "stream",
     "text": [
      "/home/wenjie/NSC_Thesis/codes/notebook\n"
     ]
    }
   ],
   "source": [
    "!pwd"
   ]
  },
  {
   "cell_type": "code",
   "execution_count": 4,
   "metadata": {},
   "outputs": [
    {
     "data": {
      "text/html": [
       "<div><style>/* Based on https://css-tricks.com/snippets/css/nested-expandable-folders/\n",
       "   Reused with permission from https://css-tricks.com/license/\n",
       "*/\n",
       "\n",
       ".h5glance-css-treeview ul,\n",
       ".h5glance-css-treeview li\n",
       "{\n",
       "\tpadding: 0;\n",
       "\tmargin: 0;\n",
       "    margin-left: 12px;\n",
       "\tlist-style: none;\n",
       "}\n",
       "\n",
       "/* Override padding from Jupyter CSS */\n",
       ".rendered_html .h5glance-css-treeview ul {\n",
       "    padding: 0;\n",
       "}\n",
       "\n",
       "/* Make the checkbox itself invisible */\n",
       ".h5glance-css-treeview input\n",
       "{\n",
       "\tposition: absolute;\n",
       "\topacity: 0;\n",
       "}\n",
       "\n",
       ".h5glance-css-treeview\n",
       "{\n",
       "    font-family: sans-serif;\n",
       "}\n",
       "\n",
       ".h5glance-css-treeview code {\n",
       "    font-size: 12pt;\n",
       "    font-family: \"courier\", monospace;\n",
       "}\n",
       "\n",
       ".h5glance-css-treeview a.h5glance-dataset-copylink\n",
       "{\n",
       "    text-decoration: none;\n",
       "}\n",
       "\n",
       "/* These next two bits drive the expanding/collapsing behaviour */\n",
       ".h5glance-css-treeview input + label + ul\n",
       "{\n",
       "\tdisplay: none;\n",
       "}\n",
       "\n",
       ".h5glance-css-treeview input:checked:not(:disabled) + label + ul\n",
       "{\n",
       "\tdisplay: block;\n",
       "}\n",
       "\n",
       ".h5glance-css-treeview label,\n",
       ".h5glance-css-treeview label::before\n",
       "{\n",
       "\tdisplay: inline-block;\n",
       "\theight: 16px;\n",
       "\tline-height: 16px;,\n",
       "\tvertical-align: middle;\n",
       "}\n",
       "\n",
       ".h5glance-css-treeview label\n",
       "{\n",
       "    margin-left: -1.5em;\n",
       "}\n",
       "\n",
       ".h5glance-css-treeview label::before\n",
       "{\n",
       "\tcontent: \"\\229e\"; /* squared plus */\n",
       "\twidth: 1.5em;\n",
       "\tvertical-align: middle;\n",
       "}\n",
       "\n",
       ".h5glance-css-treeview input:checked + label::before\n",
       "{\n",
       "    content: \"\\229f\";  /* squared minus */\n",
       "}\n",
       "\n",
       "/* webkit adjacent element selector bugfix */\n",
       "@media screen and (-webkit-min-device-pixel-ratio:0)\n",
       "{\n",
       "\t.h5glance-css-treeview\n",
       "\t{\n",
       "\t\t-webkit-animation: webkit-adjacent-element-selector-bugfix infinite 1s;\n",
       "\t}\n",
       "\n",
       "\t@-webkit-keyframes webkit-adjacent-element-selector-bugfix\n",
       "\t{\n",
       "\t\tfrom\n",
       "\t\t{\n",
       "\t\t\tpadding: 0;\n",
       "\t\t}\n",
       "\t\tto\n",
       "\t\t{\n",
       "\t\t\tpadding: 0;\n",
       "\t\t}\n",
       "\t}\n",
       "}\n",
       "\n",
       ".h5glance-css-treeview li.h5glance-dataset {\n",
       "    margin-bottom: 3px;\n",
       "}\n",
       "\n",
       ".h5glance-dataset-name {\n",
       "    font-weight: bold;\n",
       "}\n",
       "</style><div id=\"h5glance-container-0\" class=\"h5glance-css-treeview\"><ul><li><input checked=\"checked\" id=\"h5glance-expand-switch-0\" type=\"checkbox\"/><label for=\"h5glance-expand-switch-0\">../../data/training_datasets/training_dataset.hdf5</label><ul><li><input id=\"h5glance-expand-switch-1\" type=\"checkbox\"/><label for=\"h5glance-expand-switch-1\">info_group</label><ul><li class=\"h5glance-dataset\"><span class=\"h5glance-dataset-name\">dur_list</span> <a data-hdf5-path=\"/info_group/dur_list\" href=\"#\" class=\"h5glance-dataset-copylink\">[📋]</a>: 7 entries, dtype: <abbr title=\"64-bit signed integer\">int64</abbr></li><li class=\"h5glance-dataset\"><span class=\"h5glance-dataset-name\">model_name</span> <a data-hdf5-path=\"/info_group/model_name\" href=\"#\" class=\"h5glance-dataset-copylink\">[📋]</a>: scalar entries, dtype: UTF-8 string</li><li class=\"h5glance-dataset\"><span class=\"h5glance-dataset-name\">num_prior_sample</span> <a data-hdf5-path=\"/info_group/num_prior_sample\" href=\"#\" class=\"h5glance-dataset-copylink\">[📋]</a>: scalar entries, dtype: <abbr title=\"64-bit signed integer\">int64</abbr></li><li class=\"h5glance-dataset\"><span class=\"h5glance-dataset-name\">prior_max</span> <a data-hdf5-path=\"/info_group/prior_max\" href=\"#\" class=\"h5glance-dataset-copylink\">[📋]</a>: 5 entries, dtype: <abbr title=\"64-bit floating point\">float64</abbr></li><li class=\"h5glance-dataset\"><span class=\"h5glance-dataset-name\">prior_min</span> <a data-hdf5-path=\"/info_group/prior_min\" href=\"#\" class=\"h5glance-dataset-copylink\">[📋]</a>: 5 entries, dtype: <abbr title=\"64-bit floating point\">float64</abbr></li><li class=\"h5glance-dataset\"><span class=\"h5glance-dataset-name\">seqC_MS_list</span> <a data-hdf5-path=\"/info_group/seqC_MS_list\" href=\"#\" class=\"h5glance-dataset-copylink\">[📋]</a>: 3 entries, dtype: <abbr title=\"64-bit floating point\">float64</abbr></li><li class=\"h5glance-dataset\"><span class=\"h5glance-dataset-name\">seqC_dur_max</span> <a data-hdf5-path=\"/info_group/seqC_dur_max\" href=\"#\" class=\"h5glance-dataset-copylink\">[📋]</a>: scalar entries, dtype: <abbr title=\"64-bit signed integer\">int64</abbr></li><li class=\"h5glance-dataset\"><span class=\"h5glance-dataset-name\">seqC_sample_size</span> <a data-hdf5-path=\"/info_group/seqC_sample_size\" href=\"#\" class=\"h5glance-dataset-copylink\">[📋]</a>: scalar entries, dtype: <abbr title=\"64-bit signed integer\">int64</abbr></li></ul></li><li><input id=\"h5glance-expand-switch-2\" type=\"checkbox\"/><label for=\"h5glance-expand-switch-2\">probR_group</label><ul><li class=\"h5glance-dataset\"><span class=\"h5glance-dataset-name\">probR_dur11</span> <a data-hdf5-path=\"/probR_group/probR_dur11\" href=\"#\" class=\"h5glance-dataset-copylink\">[📋]</a>: 1050000 × 1 entries, dtype: <abbr title=\"64-bit floating point\">float64</abbr></li><li class=\"h5glance-dataset\"><span class=\"h5glance-dataset-name\">probR_dur13</span> <a data-hdf5-path=\"/probR_group/probR_dur13\" href=\"#\" class=\"h5glance-dataset-copylink\">[📋]</a>: 1050000 × 1 entries, dtype: <abbr title=\"64-bit floating point\">float64</abbr></li><li class=\"h5glance-dataset\"><span class=\"h5glance-dataset-name\">probR_dur15</span> <a data-hdf5-path=\"/probR_group/probR_dur15\" href=\"#\" class=\"h5glance-dataset-copylink\">[📋]</a>: 1050000 × 1 entries, dtype: <abbr title=\"64-bit floating point\">float64</abbr></li><li class=\"h5glance-dataset\"><span class=\"h5glance-dataset-name\">probR_dur3</span> <a data-hdf5-path=\"/probR_group/probR_dur3\" href=\"#\" class=\"h5glance-dataset-copylink\">[📋]</a>: 1050000 × 1 entries, dtype: <abbr title=\"64-bit floating point\">float64</abbr></li><li class=\"h5glance-dataset\"><span class=\"h5glance-dataset-name\">probR_dur5</span> <a data-hdf5-path=\"/probR_group/probR_dur5\" href=\"#\" class=\"h5glance-dataset-copylink\">[📋]</a>: 1050000 × 1 entries, dtype: <abbr title=\"64-bit floating point\">float64</abbr></li><li class=\"h5glance-dataset\"><span class=\"h5glance-dataset-name\">probR_dur7</span> <a data-hdf5-path=\"/probR_group/probR_dur7\" href=\"#\" class=\"h5glance-dataset-copylink\">[📋]</a>: 1050000 × 1 entries, dtype: <abbr title=\"64-bit floating point\">float64</abbr></li><li class=\"h5glance-dataset\"><span class=\"h5glance-dataset-name\">probR_dur9</span> <a data-hdf5-path=\"/probR_group/probR_dur9\" href=\"#\" class=\"h5glance-dataset-copylink\">[📋]</a>: 1050000 × 1 entries, dtype: <abbr title=\"64-bit floating point\">float64</abbr></li></ul></li><li><input id=\"h5glance-expand-switch-3\" type=\"checkbox\"/><label for=\"h5glance-expand-switch-3\">seqC_group</label><ul><li class=\"h5glance-dataset\"><span class=\"h5glance-dataset-name\">seqC_dur11</span> <a data-hdf5-path=\"/seqC_group/seqC_dur11\" href=\"#\" class=\"h5glance-dataset-copylink\">[📋]</a>: 1050000 × 15 entries, dtype: <abbr title=\"64-bit floating point\">float64</abbr></li><li class=\"h5glance-dataset\"><span class=\"h5glance-dataset-name\">seqC_dur13</span> <a data-hdf5-path=\"/seqC_group/seqC_dur13\" href=\"#\" class=\"h5glance-dataset-copylink\">[📋]</a>: 1050000 × 15 entries, dtype: <abbr title=\"64-bit floating point\">float64</abbr></li><li class=\"h5glance-dataset\"><span class=\"h5glance-dataset-name\">seqC_dur15</span> <a data-hdf5-path=\"/seqC_group/seqC_dur15\" href=\"#\" class=\"h5glance-dataset-copylink\">[📋]</a>: 1050000 × 15 entries, dtype: <abbr title=\"64-bit floating point\">float64</abbr></li><li class=\"h5glance-dataset\"><span class=\"h5glance-dataset-name\">seqC_dur3</span> <a data-hdf5-path=\"/seqC_group/seqC_dur3\" href=\"#\" class=\"h5glance-dataset-copylink\">[📋]</a>: 1050000 × 15 entries, dtype: <abbr title=\"64-bit floating point\">float64</abbr></li><li class=\"h5glance-dataset\"><span class=\"h5glance-dataset-name\">seqC_dur5</span> <a data-hdf5-path=\"/seqC_group/seqC_dur5\" href=\"#\" class=\"h5glance-dataset-copylink\">[📋]</a>: 1050000 × 15 entries, dtype: <abbr title=\"64-bit floating point\">float64</abbr></li><li class=\"h5glance-dataset\"><span class=\"h5glance-dataset-name\">seqC_dur7</span> <a data-hdf5-path=\"/seqC_group/seqC_dur7\" href=\"#\" class=\"h5glance-dataset-copylink\">[📋]</a>: 1050000 × 15 entries, dtype: <abbr title=\"64-bit floating point\">float64</abbr></li><li class=\"h5glance-dataset\"><span class=\"h5glance-dataset-name\">seqC_dur9</span> <a data-hdf5-path=\"/seqC_group/seqC_dur9\" href=\"#\" class=\"h5glance-dataset-copylink\">[📋]</a>: 1050000 × 15 entries, dtype: <abbr title=\"64-bit floating point\">float64</abbr></li></ul></li><li><input id=\"h5glance-expand-switch-4\" type=\"checkbox\"/><label for=\"h5glance-expand-switch-4\">theta_group</label><ul><li class=\"h5glance-dataset\"><span class=\"h5glance-dataset-name\">theta_dur11</span> <a data-hdf5-path=\"/theta_group/theta_dur11\" href=\"#\" class=\"h5glance-dataset-copylink\">[📋]</a>: 1050000 × 5 entries, dtype: <abbr title=\"64-bit floating point\">float64</abbr></li><li class=\"h5glance-dataset\"><span class=\"h5glance-dataset-name\">theta_dur13</span> <a data-hdf5-path=\"/theta_group/theta_dur13\" href=\"#\" class=\"h5glance-dataset-copylink\">[📋]</a>: 1050000 × 5 entries, dtype: <abbr title=\"64-bit floating point\">float64</abbr></li><li class=\"h5glance-dataset\"><span class=\"h5glance-dataset-name\">theta_dur15</span> <a data-hdf5-path=\"/theta_group/theta_dur15\" href=\"#\" class=\"h5glance-dataset-copylink\">[📋]</a>: 1050000 × 5 entries, dtype: <abbr title=\"64-bit floating point\">float64</abbr></li><li class=\"h5glance-dataset\"><span class=\"h5glance-dataset-name\">theta_dur3</span> <a data-hdf5-path=\"/theta_group/theta_dur3\" href=\"#\" class=\"h5glance-dataset-copylink\">[📋]</a>: 1050000 × 5 entries, dtype: <abbr title=\"64-bit floating point\">float64</abbr></li><li class=\"h5glance-dataset\"><span class=\"h5glance-dataset-name\">theta_dur5</span> <a data-hdf5-path=\"/theta_group/theta_dur5\" href=\"#\" class=\"h5glance-dataset-copylink\">[📋]</a>: 1050000 × 5 entries, dtype: <abbr title=\"64-bit floating point\">float64</abbr></li><li class=\"h5glance-dataset\"><span class=\"h5glance-dataset-name\">theta_dur7</span> <a data-hdf5-path=\"/theta_group/theta_dur7\" href=\"#\" class=\"h5glance-dataset-copylink\">[📋]</a>: 1050000 × 5 entries, dtype: <abbr title=\"64-bit floating point\">float64</abbr></li><li class=\"h5glance-dataset\"><span class=\"h5glance-dataset-name\">theta_dur9</span> <a data-hdf5-path=\"/theta_group/theta_dur9\" href=\"#\" class=\"h5glance-dataset-copylink\">[📋]</a>: 1050000 × 5 entries, dtype: <abbr title=\"64-bit floating point\">float64</abbr></li></ul></li></ul></li></ul></div><script>// Based on code by Stackoverflow user Dean Taylor\n",
       "// https://stackoverflow.com/questions/400212/how-do-i-copy-to-the-clipboard-in-javascript/30810322\n",
       "// Used under Stackoverflow's CC-BY-SA 3.0 license\n",
       "\n",
       "(function() {\n",
       "    function copyTextToClipboard(text) {\n",
       "        let textArea = document.createElement(\"textarea\");\n",
       "\n",
       "        //\n",
       "        // *** This styling is an extra step which is likely not required. ***\n",
       "        //\n",
       "        // Why is it here? To ensure:\n",
       "        // 1. the element is able to have focus and selection.\n",
       "        // 2. if element was to flash render it has minimal visual impact.\n",
       "        // 3. less flakyness with selection and copying which **might** occur if\n",
       "        //    the textarea element is not visible.\n",
       "        //\n",
       "        // The likelihood is the element won't even render, not even a flash,\n",
       "        // so some of these are just precautions. However in IE the element\n",
       "        // is visible whilst the popup box asking the user for permission for\n",
       "        // the web page to copy to the clipboard.\n",
       "        //\n",
       "\n",
       "        // Place in top-left corner of screen regardless of scroll position.\n",
       "        textArea.style.position = 'fixed';\n",
       "        textArea.style.top = 0;\n",
       "        textArea.style.left = 0;\n",
       "\n",
       "        // Ensure it has a small width and height. Setting to 1px / 1em\n",
       "        // doesn't work as this gives a negative w/h on some browsers.\n",
       "        textArea.style.width = '2em';\n",
       "        textArea.style.height = '2em';\n",
       "\n",
       "        // We don't need padding, reducing the size if it does flash render.\n",
       "        textArea.style.padding = 0;\n",
       "\n",
       "        // Clean up any borders.\n",
       "        textArea.style.border = 'none';\n",
       "        textArea.style.outline = 'none';\n",
       "        textArea.style.boxShadow = 'none';\n",
       "\n",
       "        // Avoid flash of white box if rendered for any reason.\n",
       "        textArea.style.background = 'transparent';\n",
       "\n",
       "\n",
       "        textArea.value = text;\n",
       "\n",
       "        document.body.appendChild(textArea);\n",
       "        textArea.focus();\n",
       "        textArea.select();\n",
       "\n",
       "        try {\n",
       "            if (!document.execCommand('copy')) {\n",
       "                console.log(\"Unable to copy text with document.execCommand()\");\n",
       "            }\n",
       "        } finally {\n",
       "            document.body.removeChild(textArea);\n",
       "        }\n",
       "    }\n",
       "\n",
       "    function copy_event_handler(event) {\n",
       "        copyTextToClipboard(event.target.dataset.hdf5Path);\n",
       "        event.preventDefault();\n",
       "    }\n",
       "\n",
       "    function enable_copylinks(parent) {\n",
       "        let links = parent.querySelectorAll(\".h5glance-dataset-copylink\");\n",
       "        links.forEach(function (link) {\n",
       "            link.addEventListener(\"click\", copy_event_handler);\n",
       "        });\n",
       "    }\n",
       "\n",
       "    // The code to actually trigger this is substituted below.\n",
       "    \n",
       "enable_copylinks(document.getElementById(\"h5glance-container-0\"));\n",
       "\n",
       "})();\n",
       "</script></div>"
      ],
      "text/plain": [
       "../../data/training_datasets/training_dataset.hdf5/\n",
       "├info_group\t(8 children)\n",
       "├probR_group\t(7 children)\n",
       "├seqC_group\t(7 children)\n",
       "└theta_group\t(7 children)"
      ]
     },
     "execution_count": 4,
     "metadata": {},
     "output_type": "execute_result"
    }
   ],
   "source": [
    "f = h5py.File('../../data/training_datasets/training_dataset.hdf5', 'r')\n",
    "H5Glance(f)"
   ]
  },
  {
   "cell_type": "code",
   "execution_count": 9,
   "metadata": {},
   "outputs": [
    {
     "data": {
      "text/plain": [
       "(array([-3.7,  0. ,  0. ,  0. ,  5. ]), array([ 2.5, 71. ,  0. , 18. ,  7. ]))"
      ]
     },
     "execution_count": 9,
     "metadata": {},
     "output_type": "execute_result"
    }
   ],
   "source": [
    "f['info_group']['prior_min'][:], f['info_group']['prior_max'][:]"
   ]
  },
  {
   "cell_type": "code",
   "execution_count": 6,
   "metadata": {},
   "outputs": [],
   "source": [
    "f.close()"
   ]
  },
  {
   "cell_type": "code",
   "execution_count": 27,
   "metadata": {},
   "outputs": [],
   "source": [
    "# change value in the file\n",
    "f = h5py.File('../../data/training_datasets/training_dataset.hdf5', 'r+')"
   ]
  },
  {
   "cell_type": "code",
   "execution_count": 5,
   "metadata": {
    "collapsed": false
   },
   "outputs": [
    {
     "ename": "RuntimeError",
     "evalue": "Unable to create attribute (no write intent on file)",
     "output_type": "error",
     "traceback": [
      "\u001B[0;31m---------------------------------------------------------------------------\u001B[0m",
      "\u001B[0;31mRuntimeError\u001B[0m                              Traceback (most recent call last)",
      "\u001B[0;32m/tmp/ipykernel_2712276/2371191394.py\u001B[0m in \u001B[0;36m<module>\u001B[0;34m\u001B[0m\n\u001B[1;32m      1\u001B[0m \u001B[0;31m# change the value of the attribute\u001B[0m\u001B[0;34m\u001B[0m\u001B[0;34m\u001B[0m\u001B[0;34m\u001B[0m\u001B[0m\n\u001B[0;32m----> 2\u001B[0;31m \u001B[0mf\u001B[0m\u001B[0;34m[\u001B[0m\u001B[0;34m'info_group'\u001B[0m\u001B[0;34m]\u001B[0m\u001B[0;34m[\u001B[0m\u001B[0;34m'seqC_sample_size'\u001B[0m\u001B[0;34m]\u001B[0m\u001B[0;34m.\u001B[0m\u001B[0mattrs\u001B[0m\u001B[0;34m[\u001B[0m\u001B[0;34m'value'\u001B[0m\u001B[0;34m]\u001B[0m \u001B[0;34m=\u001B[0m \u001B[0;34m[\u001B[0m\u001B[0;36m700\u001B[0m\u001B[0;34m]\u001B[0m\u001B[0;34m\u001B[0m\u001B[0;34m\u001B[0m\u001B[0m\n\u001B[0m\u001B[1;32m      3\u001B[0m \u001B[0mf\u001B[0m\u001B[0;34m[\u001B[0m\u001B[0;34m'info_group'\u001B[0m\u001B[0;34m]\u001B[0m\u001B[0;34m[\u001B[0m\u001B[0;34m'seqC_dur_max'\u001B[0m\u001B[0;34m]\u001B[0m\u001B[0;34m.\u001B[0m\u001B[0mattrs\u001B[0m\u001B[0;34m[\u001B[0m\u001B[0;34m'value'\u001B[0m\u001B[0;34m]\u001B[0m \u001B[0;34m=\u001B[0m \u001B[0;34m[\u001B[0m\u001B[0;36m14\u001B[0m\u001B[0;34m]\u001B[0m\u001B[0;34m\u001B[0m\u001B[0;34m\u001B[0m\u001B[0m\n\u001B[1;32m      4\u001B[0m \u001B[0mf\u001B[0m\u001B[0;34m[\u001B[0m\u001B[0;34m'info_group'\u001B[0m\u001B[0;34m]\u001B[0m\u001B[0;34m[\u001B[0m\u001B[0;34m'num_prior_sample'\u001B[0m\u001B[0;34m]\u001B[0m\u001B[0;34m.\u001B[0m\u001B[0mattrs\u001B[0m\u001B[0;34m[\u001B[0m\u001B[0;34m'value'\u001B[0m\u001B[0;34m]\u001B[0m \u001B[0;34m=\u001B[0m \u001B[0;34m[\u001B[0m\u001B[0;36m500\u001B[0m\u001B[0;34m]\u001B[0m\u001B[0;34m\u001B[0m\u001B[0;34m\u001B[0m\u001B[0m\n",
      "\u001B[0;32mh5py/_objects.pyx\u001B[0m in \u001B[0;36mh5py._objects.with_phil.wrapper\u001B[0;34m()\u001B[0m\n",
      "\u001B[0;32mh5py/_objects.pyx\u001B[0m in \u001B[0;36mh5py._objects.with_phil.wrapper\u001B[0;34m()\u001B[0m\n",
      "\u001B[0;32m~/anaconda3/envs/sbi/lib/python3.7/site-packages/h5py/_hl/attrs.py\u001B[0m in \u001B[0;36m__setitem__\u001B[0;34m(self, name, value)\u001B[0m\n\u001B[1;32m    102\u001B[0m         \u001B[0muse\u001B[0m \u001B[0mthe\u001B[0m \u001B[0mmethods\u001B[0m \u001B[0mcreate\u001B[0m\u001B[0;34m(\u001B[0m\u001B[0;34m)\u001B[0m \u001B[0;32mand\u001B[0m \u001B[0mmodify\u001B[0m\u001B[0;34m(\u001B[0m\u001B[0;34m)\u001B[0m\u001B[0;34m.\u001B[0m\u001B[0;34m\u001B[0m\u001B[0;34m\u001B[0m\u001B[0m\n\u001B[1;32m    103\u001B[0m         \"\"\"\n\u001B[0;32m--> 104\u001B[0;31m         \u001B[0mself\u001B[0m\u001B[0;34m.\u001B[0m\u001B[0mcreate\u001B[0m\u001B[0;34m(\u001B[0m\u001B[0mname\u001B[0m\u001B[0;34m,\u001B[0m \u001B[0mdata\u001B[0m\u001B[0;34m=\u001B[0m\u001B[0mvalue\u001B[0m\u001B[0;34m)\u001B[0m\u001B[0;34m\u001B[0m\u001B[0;34m\u001B[0m\u001B[0m\n\u001B[0m\u001B[1;32m    105\u001B[0m \u001B[0;34m\u001B[0m\u001B[0m\n\u001B[1;32m    106\u001B[0m     \u001B[0;34m@\u001B[0m\u001B[0mwith_phil\u001B[0m\u001B[0;34m\u001B[0m\u001B[0;34m\u001B[0m\u001B[0m\n",
      "\u001B[0;32m~/anaconda3/envs/sbi/lib/python3.7/site-packages/h5py/_hl/attrs.py\u001B[0m in \u001B[0;36mcreate\u001B[0;34m(self, name, data, shape, dtype)\u001B[0m\n\u001B[1;32m    204\u001B[0m                 \u001B[0mtempname\u001B[0m \u001B[0;34m=\u001B[0m \u001B[0mname\u001B[0m\u001B[0;34m\u001B[0m\u001B[0;34m\u001B[0m\u001B[0m\n\u001B[1;32m    205\u001B[0m \u001B[0;34m\u001B[0m\u001B[0m\n\u001B[0;32m--> 206\u001B[0;31m             \u001B[0mattr\u001B[0m \u001B[0;34m=\u001B[0m \u001B[0mh5a\u001B[0m\u001B[0;34m.\u001B[0m\u001B[0mcreate\u001B[0m\u001B[0;34m(\u001B[0m\u001B[0mself\u001B[0m\u001B[0;34m.\u001B[0m\u001B[0m_id\u001B[0m\u001B[0;34m,\u001B[0m \u001B[0mself\u001B[0m\u001B[0;34m.\u001B[0m\u001B[0m_e\u001B[0m\u001B[0;34m(\u001B[0m\u001B[0mtempname\u001B[0m\u001B[0;34m)\u001B[0m\u001B[0;34m,\u001B[0m \u001B[0mhtype\u001B[0m\u001B[0;34m,\u001B[0m \u001B[0mspace\u001B[0m\u001B[0;34m)\u001B[0m\u001B[0;34m\u001B[0m\u001B[0;34m\u001B[0m\u001B[0m\n\u001B[0m\u001B[1;32m    207\u001B[0m             \u001B[0;32mtry\u001B[0m\u001B[0;34m:\u001B[0m\u001B[0;34m\u001B[0m\u001B[0;34m\u001B[0m\u001B[0m\n\u001B[1;32m    208\u001B[0m                 \u001B[0;32mif\u001B[0m \u001B[0;32mnot\u001B[0m \u001B[0misinstance\u001B[0m\u001B[0;34m(\u001B[0m\u001B[0mdata\u001B[0m\u001B[0;34m,\u001B[0m \u001B[0mEmpty\u001B[0m\u001B[0;34m)\u001B[0m\u001B[0;34m:\u001B[0m\u001B[0;34m\u001B[0m\u001B[0;34m\u001B[0m\u001B[0m\n",
      "\u001B[0;32mh5py/_objects.pyx\u001B[0m in \u001B[0;36mh5py._objects.with_phil.wrapper\u001B[0;34m()\u001B[0m\n",
      "\u001B[0;32mh5py/_objects.pyx\u001B[0m in \u001B[0;36mh5py._objects.with_phil.wrapper\u001B[0;34m()\u001B[0m\n",
      "\u001B[0;32mh5py/h5a.pyx\u001B[0m in \u001B[0;36mh5py.h5a.create\u001B[0;34m()\u001B[0m\n",
      "\u001B[0;31mRuntimeError\u001B[0m: Unable to create attribute (no write intent on file)"
     ]
    }
   ],
   "source": [
    "# change the value of the attribute\n",
    "f['info_group']['seqC_sample_size'].attrs['value'] = [700]\n",
    "f['info_group']['seqC_dur_max'].attrs['value'] = [14]\n",
    "f['info_group']['num_prior_sample'].attrs['value'] = [500]"
   ]
  },
  {
   "cell_type": "code",
   "execution_count": 31,
   "metadata": {
    "collapsed": false
   },
   "outputs": [
    {
     "data": {
      "text/plain": [
       "<KeysViewHDF5 ['info_group', 'probR_group', 'seqC_group', 'theta_group']>"
      ]
     },
     "execution_count": 31,
     "metadata": {},
     "output_type": "execute_result"
    }
   ],
   "source": [
    "f.keys()"
   ]
  },
  {
   "cell_type": "markdown",
   "metadata": {
    "collapsed": false
   },
   "source": []
  },
  {
   "cell_type": "code",
   "execution_count": 38,
   "metadata": {
    "collapsed": false
   },
   "outputs": [
    {
     "data": {
      "text/plain": [
       "500"
      ]
     },
     "execution_count": 38,
     "metadata": {},
     "output_type": "execute_result"
    }
   ],
   "source": [
    "dataset = f['/info_group/num_prior_sample']\n",
    "d = dataset.attrs['value'][0]\n",
    "d"
   ]
  },
  {
   "cell_type": "code",
   "execution_count": 26,
   "metadata": {
    "collapsed": false
   },
   "outputs": [],
   "source": [
    "f.close()"
   ]
  },
  {
   "cell_type": "code",
   "execution_count": null,
   "metadata": {
    "collapsed": false
   },
   "outputs": [],
   "source": []
  }
 ],
 "metadata": {
  "kernelspec": {
   "display_name": "sbi",
   "language": "python",
   "name": "python3"
  },
  "language_info": {
   "codemirror_mode": {
    "name": "ipython",
    "version": 3
   },
   "file_extension": ".py",
   "mimetype": "text/x-python",
   "name": "python",
   "nbconvert_exporter": "python",
   "pygments_lexer": "ipython3",
   "version": "3.7.16"
  },
  "orig_nbformat": 4,
  "vscode": {
   "interpreter": {
    "hash": "594f951d3205a9849f51a997523cd1c1a299b5c52dda351e48e92277503e7015"
   }
  }
 },
 "nbformat": 4,
 "nbformat_minor": 2
}
