{
 "cells": [
  {
   "cell_type": "markdown",
   "metadata": {},
   "source": [
    "# Inference using the same validation dataset"
   ]
  },
  {
   "cell_type": "markdown",
   "metadata": {},
   "source": [
    "## load validation dataset"
   ]
  },
  {
   "cell_type": "markdown",
   "metadata": {},
   "source": [
    "## NPE Inference"
   ]
  },
  {
   "cell_type": "markdown",
   "metadata": {},
   "source": [
    "## NPE-F Inference"
   ]
  },
  {
   "cell_type": "markdown",
   "metadata": {},
   "source": [
    "## NLE Inference"
   ]
  },
  {
   "cell_type": "markdown",
   "metadata": {},
   "source": [
    "## Analytical Inference"
   ]
  },
  {
   "cell_type": "code",
   "execution_count": null,
   "metadata": {},
   "outputs": [],
   "source": [
    "import pymc3 as pm\n",
    "\n",
    "# Define the model\n",
    "with pm.Model() as model:\n",
    "    # Define prior for 4 parameters\n",
    "    param1 = pm.Uniform('param1', lower=a1, upper=b1) # Define appropriate bounds a1, b1\n",
    "    param2 = pm.Uniform('param2', lower=a2, upper=b2) # Define appropriate bounds a2, b2\n",
    "    param3 = pm.Uniform('param3', lower=a3, upper=b3) # Define appropriate bounds a3, b3\n",
    "    param4 = pm.Uniform('param4', lower=a4, upper=b4) # Define appropriate bounds a4, b4\n",
    "\n",
    "    # Define likelihood\n",
    "    p = your_function(x, param1, param2, param3, param4) # Define your_function to take x and 4 parameters\n",
    "    likelihood = pm.Bernoulli('obs', p=p, observed=y)\n",
    "\n",
    "    # Run MCMC\n",
    "    trace = pm.sample(5000)\n",
    "\n",
    "# Analyze the results\n",
    "pm.traceplot(trace)"
   ]
  },
  {
   "cell_type": "code",
   "execution_count": null,
   "metadata": {},
   "outputs": [],
   "source": [
    "import torch\n",
    "import pyro\n",
    "import pyro.distributions as dist\n",
    "from pyro.infer import MCMC, NUTS\n",
    "\n",
    "def model(x, y):\n",
    "    # Priors for the 4 parameters\n",
    "    param1 = pyro.sample(\"param1\", dist.Uniform(a1, b1))\n",
    "    param2 = pyro.sample(\"param2\", dist.Uniform(a2, b2))\n",
    "    param3 = pyro.sample(\"param3\", dist.Uniform(a3, b3))\n",
    "    param4 = pyro.sample(\"param4\", dist.Uniform(a4, b4))\n",
    "\n",
    "    # Define the likelihood function\n",
    "    p = your_function(x, param1, param2, param3, param4) # Define your_function\n",
    "    with pyro.plate(\"data\", len(x)):\n",
    "        pyro.sample(\"obs\", dist.Bernoulli(p), obs=y)\n",
    "\n",
    "# Convert x and y to PyTorch tensors\n",
    "x_tensor = torch.tensor(x, dtype=torch.float)\n",
    "y_tensor = torch.tensor(y, dtype=torch.float)\n",
    "\n",
    "# Setup MCMC with NUTS kernel\n",
    "nuts_kernel = NUTS(model)\n",
    "mcmc = MCMC(nuts_kernel, num_samples=5000, warmup_steps=1000)\n",
    "mcmc.run(x_tensor, y_tensor)\n",
    "\n",
    "# Get posterior samples\n",
    "posterior_samples = mcmc.get_samples()\n"
   ]
  },
  {
   "cell_type": "code",
   "execution_count": null,
   "metadata": {},
   "outputs": [],
   "source": []
  }
 ],
 "metadata": {
  "kernelspec": {
   "display_name": "Python 3",
   "language": "python",
   "name": "python3"
  },
  "language_info": {
   "codemirror_mode": {
    "name": "ipython",
    "version": 3
   },
   "file_extension": ".py",
   "mimetype": "text/x-python",
   "name": "python",
   "nbconvert_exporter": "python",
   "pygments_lexer": "ipython3",
   "version": "3.10.12"
  }
 },
 "nbformat": 4,
 "nbformat_minor": 0
}
