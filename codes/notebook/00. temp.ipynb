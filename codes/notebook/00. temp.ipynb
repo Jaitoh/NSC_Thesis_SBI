{
 "cells": [
  {
   "cell_type": "code",
   "execution_count": 1,
   "metadata": {},
   "outputs": [],
   "source": [
    "# magic command to reload modules\n",
    "%load_ext autoreload\n",
    "%autoreload 2"
   ]
  },
  {
   "cell_type": "code",
   "execution_count": 23,
   "metadata": {
    "collapsed": false
   },
   "outputs": [
    {
     "data": {
      "text/plain": [
       "'/Users/admin/Library/CloudStorage/GoogleDrive-wenjhe@ethz.ch/My Drive/02. Master_NSC/02. 2023FS/NSC_Thesis/codes/notebook'"
      ]
     },
     "execution_count": 23,
     "metadata": {},
     "output_type": "execute_result"
    }
   ],
   "source": [
    "import yaml\n",
    "import sys\n",
    "sys.path.append('../src')\n",
    "import os\n",
    "os.getcwd()"
   ]
  },
  {
   "cell_type": "code",
   "execution_count": 58,
   "metadata": {},
   "outputs": [],
   "source": [
    "from config.load_config import load_1config, parse_dataset_path"
   ]
  },
  {
   "cell_type": "code",
   "execution_count": 69,
   "metadata": {},
   "outputs": [
    {
     "data": {
      "text/plain": [
       "'Sa0_Ra0_suba0'"
      ]
     },
     "execution_count": 69,
     "metadata": {},
     "output_type": "execute_result"
    }
   ],
   "source": [
    "config_dataset_path = '../src/config/dataset_Sa0_Ra0_suba0.yaml'\n",
    "config_dataset_dir = config_dataset_path.split('/')[:-1]\n",
    "config_dataset_dir = '/'.join(config_dataset_dir) + '/dataset'\n",
    "\n",
    "data_abbrs = config_dataset_path.split('/')[-1].split('.')[0].split('_')[1:]\n",
    "data_files = [f'dataset_{ab}.yaml' for ab in data_abbrs]\n",
    "\n",
    "config_dataset_paths= [config_dataset_dir + '/' + f for f in data_files]\n",
    "dataset_abbr = '_'.join(data_abbrs)\n",
    "dataset_abbr"
   ]
  },
  {
   "cell_type": "code",
   "execution_count": 77,
   "metadata": {},
   "outputs": [
    {
     "data": {
      "text/plain": [
       "(['../src/config/dataset/dataset_Sa0.yaml',\n",
       "  '../src/config/dataset/dataset_Ra0.yaml',\n",
       "  '../src/config/dataset/dataset_suba0.yaml'],\n",
       " 'Sa0_Ra0_suba0')"
      ]
     },
     "execution_count": 77,
     "metadata": {},
     "output_type": "execute_result"
    }
   ],
   "source": [
    "config_dataset_path = '../src/config/dataset_Sa0_Ra0_suba0.yaml'\n",
    "config_dataset_paths, dataset_abbr = parse_dataset_path(config_dataset_path)\n",
    "config_dataset_paths, dataset_abbr"
   ]
  },
  {
   "cell_type": "code",
   "execution_count": 81,
   "metadata": {},
   "outputs": [],
   "source": [
    "config_collection = {}\n",
    "# load config files and merge them\n",
    "for i, config_path in enumerate(config_dataset_paths):\n",
    "    config = load_1config(config_path)\n",
    "    config_collection.update(config)\n",
    "dataset_config = {'train_data': config_collection}\n",
    "\n",
    "save_name = f'train_data_{dataset_abbr}.h5'\n",
    "dataset_config['train_data']['save_name'] = save_name"
   ]
  },
  {
   "cell_type": "code",
   "execution_count": 82,
   "metadata": {},
   "outputs": [
    {
     "data": {
      "text/plain": [
       "{'train_data': {'train_data_dur_list': [15],\n",
       "  'train_data_MS_list': [0.2, 0.4, 0.8],\n",
       "  'seqC_process': 'norm',\n",
       "  'nan2num': -1,\n",
       "  'Rchoice_method': 'probR_sampling',\n",
       "  'num_probR_sample': 10,\n",
       "  'subset_seqC': 0.15,\n",
       "  'subset_theta': 0.2,\n",
       "  'remove_sigma2i': True,\n",
       "  'save_name': 'train_data_Sa0_Ra0_suba0.h5'}}"
      ]
     },
     "execution_count": 82,
     "metadata": {},
     "output_type": "execute_result"
    }
   ],
   "source": [
    "dataset_config"
   ]
  },
  {
   "cell_type": "code",
   "execution_count": 34,
   "metadata": {},
   "outputs": [
    {
     "data": {
      "text/plain": [
       "{'simulator': {'model_type': 'DM',\n",
       "  'model_name': 'B-G-L0S-O-N-',\n",
       "  'save_name': 'sim_data_Ca_Pa_Ma.h5'},\n",
       " 'seqC': {'dur_min': 3,\n",
       "  'dur_max': 15,\n",
       "  'MS_list': [0.2, 0.4, 0.8],\n",
       "  'sample': 700,\n",
       "  'single_dur': 0},\n",
       " 'prior': {'prior_min': [-3.7, 0, 0, 0, 5],\n",
       "  'prior_max': [2.5, 71, 0, 18, 7],\n",
       "  'num_prior_sample': 500}}"
      ]
     },
     "execution_count": 34,
     "metadata": {},
     "output_type": "execute_result"
    }
   ],
   "source": [
    "load_1config('../src/config/simulator_Ca_Pa_Ma.yaml')"
   ]
  },
  {
   "cell_type": "code",
   "execution_count": null,
   "metadata": {},
   "outputs": [],
   "source": []
  }
 ],
 "metadata": {
  "kernelspec": {
   "display_name": "sbi",
   "language": "python",
   "name": "python3"
  },
  "language_info": {
   "codemirror_mode": {
    "name": "ipython",
    "version": 3
   },
   "file_extension": ".py",
   "mimetype": "text/x-python",
   "name": "python",
   "nbconvert_exporter": "python",
   "pygments_lexer": "ipython3",
   "version": "3.7.16"
  },
  "orig_nbformat": 4,
  "vscode": {
   "interpreter": {
    "hash": "594f951d3205a9849f51a997523cd1c1a299b5c52dda351e48e92277503e7015"
   }
  }
 },
 "nbformat": 4,
 "nbformat_minor": 2
}
