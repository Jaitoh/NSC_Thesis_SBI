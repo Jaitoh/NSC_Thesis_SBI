{
 "cells": [
  {
   "cell_type": "markdown",
   "metadata": {},
   "source": [
    "## TODO"
   ]
  },
  {
   "cell_type": "markdown",
   "metadata": {},
   "source": [
    "- memory usage of processing sampling shuffle is *huge*\n",
    "    - subset processing\n",
    "    - using collate_fn during training\n",
    "- using summary feature as input"
   ]
  },
  {
   "cell_type": "code",
   "execution_count": 63,
   "metadata": {},
   "outputs": [],
   "source": [
    "import os\n",
    "import h5py\n",
    "import numpy as np\n",
    "from memory_profiler import profile\n",
    "import matplotlib.pyplot as plt\n",
    "import sys\n",
    "sys.path.append('../src')\n",
    "from tqdm import tqdm\n",
    "from dataset.data_process import process_x_seqC_part\n",
    "import torch\n",
    "import time\n",
    "from copy import deepcopy"
   ]
  },
  {
   "cell_type": "code",
   "execution_count": null,
   "metadata": {},
   "outputs": [],
   "source": [
    "# check dataset generated for experiment set 0 with model L0\n",
    "data_path = '../../data/dataset'\n",
    "!ls $data_path\n",
    "f1 = h5py.File(data_path + '/dataset_part_0.h5', 'r')\n",
    "f2 = h5py.File(data_path + '/dataset_part_0_snn.h5', 'r')"
   ]
  },
  {
   "cell_type": "code",
   "execution_count": null,
   "metadata": {},
   "outputs": [],
   "source": [
    "f1['data']['seqC'], f1['data']['theta'], f1['data']['probR']\n",
    "f2['data']['seqC'], f2['data']['theta'], f2['data']['probR']"
   ]
  },
  {
   "attachments": {},
   "cell_type": "markdown",
   "metadata": {},
   "source": [
    "check if the two datasets are the same (using same seed on different machines)"
   ]
  },
  {
   "cell_type": "code",
   "execution_count": null,
   "metadata": {},
   "outputs": [],
   "source": [
    "print('comparing snn and uzh generated datasets...')\n",
    "issame_seqC = not np.sum(np.nan_to_num(f1['data']['seqC'][:], -1)!=np.nan_to_num(f2['data']['seqC'][:], -1))\n",
    "issame_theta = not np.sum(np.nan_to_num(f1['data']['theta'][:], -1)!=np.nan_to_num(f2['data']['theta'][:], -1))\n",
    "issame_probR = not np.sum(np.nan_to_num(f1['data']['probR'][:], -1)!=np.nan_to_num(f2['data']['probR'][:], -1))\n",
    "print(\"seqC are the same\") if issame_seqC else print(\"!seqC are different!\")\n",
    "print(\"theta are the same\") if issame_theta else print(\"!theta are different!\")\n",
    "print(\"probR are the same\") if issame_probR else print(\"!probR are different!\")"
   ]
  },
  {
   "cell_type": "code",
   "execution_count": null,
   "metadata": {},
   "outputs": [],
   "source": [
    "f1.close()\n",
    "f2.close()"
   ]
  },
  {
   "attachments": {},
   "cell_type": "markdown",
   "metadata": {},
   "source": [
    "## merge datasets into one"
   ]
  },
  {
   "cell_type": "code",
   "execution_count": null,
   "metadata": {},
   "outputs": [],
   "source": [
    "# list the files in the data directory using python\n",
    "data_dir = '../../data/dataset'\n",
    "files = [f for f in os.listdir(data_dir) if os.path.isfile(os.path.join(data_dir, f))]\n",
    "\n",
    "data_paths = []\n",
    "data_file_idxs = []\n",
    "for data_file in files:\n",
    "    data_path = f'{data_dir}/{data_file}'\n",
    "    data_paths.append(data_path)\n",
    "    # sort the data paths according to the file name\n",
    "    data_paths.sort(key=lambda x: x.split('_part_')[-1].split('.')[0])\n",
    "    data_file_idxs.append(int(data_path.split('_part_')[-1].split('.')[0]))"
   ]
  },
  {
   "cell_type": "code",
   "execution_count": null,
   "metadata": {},
   "outputs": [],
   "source": [
    "# create a new h5 file to store the combined dataset\n",
    "merged_data_path = f'{data_dir}/dataset_L0_exp_set_0.h5'\n",
    "\n",
    "with h5py.File(merged_data_path, 'w') as merged_data_file:\n",
    "    \n",
    "    for data_path, data_file_idx in zip(*(data_paths, data_file_idxs)):\n",
    "        print(f'adding {data_path} to {merged_data_path}')\n",
    "        data_file = h5py.File(data_path, 'r')\n",
    "        # copy the data group from the data file to the merged data file\n",
    "        set_group = merged_data_file.create_group(f'set_{data_file_idx}')\n",
    "        data_file.copy('data/seqC', set_group)\n",
    "        data_file.copy('data/probR', set_group)\n",
    "        data_file.copy('data/theta', set_group)\n",
    "        data_file.close()\n",
    "        merged_data_file.flush()\n",
    "\n",
    "    print(f'\\nmerged file has keys: {list(merged_data_file.keys())}')    \n",
    "    print(f\"\\nin one set_0 it has keys: {list(merged_data_file['set_0'].keys())}\")\n",
    "    print(f\"seqC has a shape of: {merged_data_file['set_0']['seqC'].shape}\")\n",
    "    print(f\"theta has a shape of: {merged_data_file['set_0']['theta'].shape}\")\n",
    "    print(f\"probR has a shape of: {merged_data_file['set_0']['probR'].shape}\")\n",
    "\n",
    "# merged_data_file.close()"
   ]
  },
  {
   "attachments": {},
   "cell_type": "markdown",
   "metadata": {},
   "source": [
    "## process the x with MEM check "
   ]
  },
  {
   "cell_type": "code",
   "execution_count": 2,
   "metadata": {},
   "outputs": [],
   "source": [
    "%load_ext memory_profiler"
   ]
  },
  {
   "cell_type": "code",
   "execution_count": 7,
   "metadata": {},
   "outputs": [],
   "source": [
    "@profile(precision=4)\n",
    "def load_dataset():    \n",
    "    data_path = '../../data/dataset/dataset_L0_exp_set_0.h5'\n",
    "    f = h5py.File(data_path, 'r')\n",
    "    seqC = f['set_0']['seqC'][:]\n",
    "    probR = f['set_0']['probR'][:]\n",
    "    print(seqC.shape, probR.shape)\n",
    "    seqC = seqC.reshape((seqC.shape[0]*seqC.shape[1]*seqC.shape[2], seqC.shape[3]))\n",
    "    probR = probR.reshape((probR.shape[0]*probR.shape[1]*probR.shape[2], probR.shape[3]))\n",
    "    print(seqC.shape, probR.shape)\n",
    "    return seqC"
   ]
  },
  {
   "cell_type": "code",
   "execution_count": 8,
   "metadata": {},
   "outputs": [
    {
     "name": "stdout",
     "output_type": "stream",
     "text": [
      "ERROR: Could not find file /tmp/ipykernel_1584372/3769736698.py\n",
      "(7, 3, 700, 15) (7, 3, 700, 5000, 1)\n",
      "(14700, 15) (14700, 5000)\n",
      "\n"
     ]
    },
    {
     "name": "stdout",
     "output_type": "stream",
     "text": [
      "Filename: /home/wehe/anaconda3/envs/sbi/lib/python3.7/site-packages/memory_profiler.py\n",
      "\n",
      "Line #    Mem usage    Increment  Occurences   Line Contents\n",
      "============================================================\n",
      "  1140    338.2 MiB    338.2 MiB           1               def wrapper(*args, **kwargs):\n",
      "  1141    338.2 MiB      0.0 MiB           1                   prof = get_prof()\n",
      "  1142    340.3 MiB      2.1 MiB           1                   val = prof(func)(*args, **kwargs)\n",
      "  1143    340.3 MiB      0.0 MiB           1                   show_results_bound(prof)\n",
      "  1144    340.3 MiB      0.0 MiB           1                   return val"
     ]
    }
   ],
   "source": [
    "%%mprun -f load_dataset\n",
    "\n",
    "load_dataset()"
   ]
  },
  {
   "cell_type": "code",
   "execution_count": null,
   "metadata": {},
   "outputs": [],
   "source": [
    "# check reshaped dataset\n",
    "data_path = '../../data/dataset/dataset_L0_exp_set_0.h5'\n",
    "f = h5py.File(data_path, 'r')\n",
    "seqC = f['set_0']['seqC'][:]\n",
    "probR = f['set_0']['probR'][:]\n",
    "print(seqC.shape, probR.shape)\n",
    "seqC_ = seqC.reshape((seqC.shape[0]*seqC.shape[1]*seqC.shape[2], seqC.shape[3]))\n",
    "probR_ = probR.reshape((probR.shape[0]*probR.shape[1]*probR.shape[2], probR.shape[3]))\n",
    "print(seqC_.shape, probR_.shape)"
   ]
  },
  {
   "attachments": {},
   "cell_type": "markdown",
   "metadata": {},
   "source": [
    "## build dataset and dataLoader"
   ]
  },
  {
   "cell_type": "code",
   "execution_count": 3,
   "metadata": {},
   "outputs": [
    {
     "name": "stdout",
     "output_type": "stream",
     "text": [
      "torch.Size([10, 4]) torch.Size([10, 4])\n",
      "torch.Size([10, 10, 4]) torch.Size([10, 10, 4])\n"
     ]
    },
    {
     "name": "stderr",
     "output_type": "stream",
     "text": [
      "/home/wehe/anaconda3/envs/sbi/lib/python3.7/site-packages/ipykernel_launcher.py:8: UserWarning: To copy construct from a tensor, it is recommended to use sourceTensor.clone().detach() or sourceTensor.clone().detach().requires_grad_(True), rather than torch.tensor(sourceTensor).\n",
      "  \n"
     ]
    }
   ],
   "source": [
    "import torch\n",
    "from torch.utils.data import Dataset, DataLoader\n",
    "probR = [0.5, 0.3, 0.1, 0.1]\n",
    "\n",
    "probR    = torch.tensor(probR).unsqueeze_(dim=0).repeat_interleave(10, dim=0) # (C, D*M*S, 1)\n",
    "x_choice = torch.bernoulli(probR) # (C, D*M*S, 1)\n",
    "print(x_choice.shape, probR.shape)\n",
    "probR = torch.tensor(probR).expand(10, -1, -1)\n",
    "x_choice = torch.bernoulli(probR) # (C, D*M*S, 1)\n",
    "print(x_choice.shape, probR.shape)"
   ]
  },
  {
   "cell_type": "code",
   "execution_count": 3,
   "metadata": {},
   "outputs": [],
   "source": [
    "import torch\n",
    "from torch.utils.data import Dataset, DataLoader\n",
    "from train.MyData import MyDataset\n",
    "\n",
    "class MyDataLoader(DataLoader):\n",
    "    def __init__(self, dataset, batch_size, C, shuffle=True, pin_memory=False, num_workers=0):\n",
    "        super().__init__(dataset, batch_size, shuffle=shuffle, collate_fn=self.collate_fn, pin_memory=pin_memory, num_workers=num_workers)\n",
    "        self.C = C\n",
    "        \n",
    "    def collate_fn(self, batch):\n",
    "        # Process the batch\n",
    "        x_batches, theta_batches = [], []\n",
    "        \n",
    "        # x_batch     = torch.empty((self.C * len(batch), batch[0][0].shape[0], batch[0][0].shape[1]+batch[0][2].shape[1]))\n",
    "        # theta_batch = torch.empty((self.C * len(batch), batch[0][1].shape[0]))\n",
    "        # Create tensors for probR and x_seqC outside the loop\n",
    "        x_seqC_tensor = torch.empty((self.C, batch[0][0].shape[0], batch[0][0].shape[1]))\n",
    "        probR_tensor = torch.empty((self.C, batch[0][2].shape[0], 1))\n",
    "        print(len(batch), x_seqC_tensor.shape, probR_tensor.shape)\n",
    "        \n",
    "        for i, (seqC, theta, probR) in enumerate(batch): # seqC: (D*M*S, 15), theta: (4,), probR: (D*M*S, 1)\n",
    "            \n",
    "            # probR    = torch.tensor(probR).unsqueeze_(dim=0).repeat_interleave(self.C, dim=0) # (C, D*M*S, 1)\n",
    "            probR_tensor.copy_(torch.tensor(probR).unsqueeze_(dim=0).repeat_interleave(self.C, dim=0)) # (C, D*M*S, 1)\n",
    "            x_choice = torch.bernoulli(probR_tensor) # (C, D*M*S, 1)\n",
    "            \n",
    "            # x_seqC   = torch.tensor(seqC).unsqueeze_(dim=0).repeat_interleave(self.C, dim=0) # (C, D*M*S, 15)\n",
    "            # x = torch.cat([x_seqC, x_choice], dim=-1)\n",
    "            x_seqC_tensor.copy_(torch.tensor(seqC).unsqueeze_(dim=0).repeat_interleave(self.C, dim=0)) # (C, D*M*S, 15)\n",
    "            x = torch.cat([x_seqC_tensor, x_choice], dim=-1)\n",
    "            \n",
    "            theta = torch.tensor(theta).unsqueeze_(dim=0).repeat_interleave(self.C, dim=0) # (C, 4)\n",
    "            \n",
    "            x_batches.append(x)\n",
    "            theta_batches.append(theta)\n",
    "        \n",
    "        # Concatenate the batched tensors\n",
    "        x_batch = torch.cat(x_batches, dim=0)\n",
    "        theta_batch = torch.cat(theta_batches, dim=0)\n",
    "        \n",
    "        # Shuffle x along the 2nd axis\n",
    "        # for i in range(x_batch.shape[0]):\n",
    "        #     indices = torch.randperm(x_batch.shape[1])\n",
    "        #     x_batch[i] = x_batch[i][indices]\n",
    "        x_batch = torch.stack([x_batch[i][torch.randperm(x_batch.shape[1])] for i in range(x_batch.shape[0])])\n",
    "            \n",
    "        # Shuffle the batched dataset\n",
    "        indices     = torch.randperm(x_batch.shape[0])\n",
    "        x_batch     = x_batch[indices]\n",
    "        theta_batch = theta_batch[indices]\n",
    "        \n",
    "        return torch.tensor(x_batch, dtype=torch.float32), torch.tensor(theta_batch, dtype=torch.float32)    "
   ]
  },
  {
   "cell_type": "code",
   "execution_count": 5,
   "metadata": {},
   "outputs": [],
   "source": [
    "%load_ext memory_profiler\n",
    "\n",
    "data_path = \"../../data/dataset/dataset_L0_exp_set_0.h5\"\n",
    "batch_size = 200\n",
    "C = 100\n",
    "\n",
    "# Create a my dataset using the data path\n",
    "my_dataset = MyDataset(data_path)\n",
    "\n",
    "# Create a my data loader using the dataset, batch size, and C\n",
    "my_dataloader = MyDataLoader(my_dataset, batch_size, C, shuffle=False)\n",
    "\n",
    "@profile\n",
    "def load_my_dataset():    \n",
    "    next(iter(my_dataloader))\n",
    "    "
   ]
  },
  {
   "cell_type": "code",
   "execution_count": 15,
   "metadata": {},
   "outputs": [
    {
     "data": {
      "text/plain": [
       "10000"
      ]
     },
     "execution_count": 15,
     "metadata": {},
     "output_type": "execute_result"
    }
   ],
   "source": [
    "len(my_dataset)"
   ]
  },
  {
   "cell_type": "code",
   "execution_count": 21,
   "metadata": {},
   "outputs": [
    {
     "data": {
      "text/plain": [
       "tensor([1, 3, 8, 4, 5, 2, 9, 6, 0, 7])"
      ]
     },
     "execution_count": 21,
     "metadata": {},
     "output_type": "execute_result"
    }
   ],
   "source": [
    "torch.randperm(10)"
   ]
  },
  {
   "cell_type": "code",
   "execution_count": 20,
   "metadata": {},
   "outputs": [
    {
     "ename": "AttributeError",
     "evalue": "'numpy.ndarray' object has no attribute 'device'",
     "output_type": "error",
     "traceback": [
      "\u001b[0;31m---------------------------------------------------------------------------\u001b[0m",
      "\u001b[0;31mAttributeError\u001b[0m                            Traceback (most recent call last)",
      "\u001b[0;32m/tmp/ipykernel_1599370/1697498215.py\u001b[0m in \u001b[0;36m<module>\u001b[0;34m\u001b[0m\n\u001b[0;32m----> 1\u001b[0;31m \u001b[0mmy_dataset\u001b[0m\u001b[0;34m[\u001b[0m\u001b[0;36m0\u001b[0m\u001b[0;34m]\u001b[0m\u001b[0;34m[\u001b[0m\u001b[0;36m0\u001b[0m\u001b[0;34m]\u001b[0m\u001b[0;34m.\u001b[0m\u001b[0mdevice\u001b[0m\u001b[0;34m\u001b[0m\u001b[0;34m\u001b[0m\u001b[0m\n\u001b[0m",
      "\u001b[0;31mAttributeError\u001b[0m: 'numpy.ndarray' object has no attribute 'device'"
     ]
    }
   ],
   "source": [
    "my_dataset[0][0].shape"
   ]
  },
  {
   "cell_type": "code",
   "execution_count": 4,
   "metadata": {},
   "outputs": [
    {
     "name": "stdout",
     "output_type": "stream",
     "text": [
      "ERROR: Could not find file /tmp/ipykernel_1591563/4076220988.py\n",
      "200 torch.Size([100, 14700, 15]) torch.Size([100, 14700, 1])\n"
     ]
    },
    {
     "name": "stderr",
     "output_type": "stream",
     "text": [
      "/home/wehe/anaconda3/envs/sbi/lib/python3.7/site-packages/ipykernel_launcher.py:52: UserWarning: To copy construct from a tensor, it is recommended to use sourceTensor.clone().detach() or sourceTensor.clone().detach().requires_grad_(True), rather than torch.tensor(sourceTensor).\n"
     ]
    },
    {
     "name": "stdout",
     "output_type": "stream",
     "text": [
      "\n"
     ]
    },
    {
     "name": "stdout",
     "output_type": "stream",
     "text": [
      "Filename: /home/wehe/anaconda3/envs/sbi/lib/python3.7/site-packages/memory_profiler.py\n",
      "\n",
      "Line #    Mem usage    Increment  Occurences   Line Contents\n",
      "============================================================\n",
      "  1140    328.7 MiB    328.7 MiB           1               def wrapper(*args, **kwargs):\n",
      "  1141    328.7 MiB      0.0 MiB           1                   prof = get_prof()\n",
      "  1142  18648.8 MiB  18320.1 MiB           1                   val = prof(func)(*args, **kwargs)\n",
      "  1143  18648.8 MiB      0.0 MiB           1                   show_results_bound(prof)\n",
      "  1144  18648.8 MiB      0.0 MiB           1                   return val"
     ]
    }
   ],
   "source": [
    "%%mprun -f load_my_dataset\n",
    "\n",
    "load_my_dataset()"
   ]
  },
  {
   "cell_type": "code",
   "execution_count": 22,
   "metadata": {},
   "outputs": [
    {
     "name": "stdout",
     "output_type": "stream",
     "text": [
      "200 torch.Size([100, 14700, 15]) torch.Size([100, 14700, 1])\n"
     ]
    },
    {
     "name": "stderr",
     "output_type": "stream",
     "text": [
      "/home/wehe/anaconda3/envs/sbi/lib/python3.7/site-packages/ipykernel_launcher.py:52: UserWarning: To copy construct from a tensor, it is recommended to use sourceTensor.clone().detach() or sourceTensor.clone().detach().requires_grad_(True), rather than torch.tensor(sourceTensor).\n"
     ]
    }
   ],
   "source": [
    "x, theta = next(iter(my_dataloader))"
   ]
  },
  {
   "cell_type": "code",
   "execution_count": 26,
   "metadata": {},
   "outputs": [
    {
     "data": {
      "text/plain": [
       "(torch.Size([20000, 14700, 16]), torch.float32, device(type='cpu'))"
      ]
     },
     "execution_count": 26,
     "metadata": {},
     "output_type": "execute_result"
    }
   ],
   "source": [
    "x.shape, x.dtype, x.device"
   ]
  },
  {
   "cell_type": "markdown",
   "metadata": {},
   "source": []
  },
  {
   "cell_type": "code",
   "execution_count": 14,
   "metadata": {},
   "outputs": [
    {
     "name": "stdout",
     "output_type": "stream",
     "text": [
      "[-2.1051085 76.36004   14.020376  -2.2886753]\n",
      "[-0.3931048 62.374958   5.7503624  9.403898 ]\n",
      "[ 1.0296276 20.973902   1.6168088  3.799447 ]\n",
      "[-0.0162127  7.2405505 13.556441  -5.605743 ]\n",
      "[-1.6574981 28.764153   2.6164079 -5.4360065]\n",
      "[ 1.346662  68.51326    2.7388778  7.961334 ]\n",
      "[-1.180942 68.74927   6.081833  7.114212]\n",
      "[-0.3931048 62.374958   5.7503624  9.403898 ]\n",
      "[ 2.3915758 37.06277   11.166346  -7.8333864]\n",
      "[-1.808756 45.4957    5.050899  7.839239]\n"
     ]
    },
    {
     "data": {
      "image/png": "[encoded data removed]",
      "text/plain": [
       "<Figure size 1000x500 with 10 Axes>"
      ]
     },
     "metadata": {},
     "output_type": "display_data"
    }
   ],
   "source": [
    "fig, axes = plt.subplots(1, 10, figsize=(10, 5))\n",
    "for i in range(10):\n",
    "    ax = axes[i]\n",
    "    ax.imshow(data[0][i, :100, :].numpy())\n",
    "    print(data[1][i,:].numpy())"
   ]
  },
  {
   "attachments": {},
   "cell_type": "markdown",
   "metadata": {},
   "source": [
    "## change process seqC and save to disk"
   ]
  },
  {
   "cell_type": "code",
   "execution_count": 69,
   "metadata": {},
   "outputs": [
    {
     "name": "stdout",
     "output_type": "stream",
     "text": [
      "<KeysViewHDF5 ['probR', 'seqC', 'seqC_normed', 'seqC_summary_0', 'seqC_summary_1', 'theta']>\n",
      "torch.Size([14700, 15]) torch.Size([4]) torch.Size([14700, 1])\n"
     ]
    }
   ],
   "source": [
    "seqC_process = 'norm'\n",
    "set_idx = 0\n",
    "summary_type = 0\n",
    "theta_idx = 0\n",
    "\n",
    "dataset_path = '../../data/dataset/dataset_L0_exp_set_0.h5'\n",
    "# process and write the dataset\n",
    "f = h5py.File(dataset_path, 'r+')\n",
    "\n",
    "print(f['set_0'].keys())\n",
    "\n",
    "if seqC_process == 'norm':\n",
    "    seqC = f[f'set_{set_idx}']['seqC_normed'][:]\n",
    "elif seqC_process == 'summary':\n",
    "    if summary_type == 0:\n",
    "        seqC = f[f'set_{set_idx}']['seqC_summary_0'][:]\n",
    "    elif summary_type == 1:\n",
    "        seqC = f[f'set_{set_idx}']['seqC_summary_1'][:]\n",
    "else:\n",
    "    raise ValueError(f\"seqC_process {seqC_process} not supported\")\n",
    "\n",
    "theta = f[f'set_{set_idx}']['theta'][theta_idx,:]\n",
    "probR = f[f'set_{set_idx}']['probR'][:, theta_idx][:, np.newaxis]\n",
    "\n",
    "seqC = torch.from_numpy(seqC)\n",
    "theta = torch.from_numpy(theta)\n",
    "probR = torch.from_numpy(probR)\n",
    "print(seqC.shape, theta.shape, probR.shape)\n",
    "\n",
    "f.close()"
   ]
  },
  {
   "attachments": {},
   "cell_type": "markdown",
   "metadata": {},
   "source": [
    "## compare speed between numpy and torch, in dataloader"
   ]
  },
  {
   "attachments": {},
   "cell_type": "markdown",
   "metadata": {},
   "source": [
    "result:\n",
    "\n",
    "|task|time_numpy|time_torch|\n",
    "|---|---|---|\n",
    "|probR repeat|1.2|1.7|\n",
    "|seqC repeat|26|23|\n",
    "|probR-choice|83|30|\n",
    "|[x_seqC, x_choice]|47|19|\n",
    "|theta repeat|0.63|1.74|\n",
    "|shuffle along 2nd axis|269|79|\n",
    "|total|427|145|"
   ]
  },
  {
   "cell_type": "code",
   "execution_count": 4,
   "metadata": {},
   "outputs": [],
   "source": [
    "C = 100"
   ]
  },
  {
   "cell_type": "code",
   "execution_count": 9,
   "metadata": {},
   "outputs": [
    {
     "name": "stdout",
     "output_type": "stream",
     "text": [
      "(14700, 1)\n",
      "numpy: 6.108283996582031 ms\n",
      "(100, 14700, 1)\n"
     ]
    }
   ],
   "source": [
    "probR_ = probR\n",
    "probR_ = probR_.numpy()\n",
    "print(probR_.shape)\n",
    "start_time = time.time()\n",
    "probR_np   = np.repeat(probR_[np.newaxis, :], C, axis=0) # (C, D*M*S, 1)\n",
    "print('numpy:', (time.time() - start_time)*1000, 'ms')\n",
    "print(probR_np.shape)"
   ]
  },
  {
   "cell_type": "code",
   "execution_count": 72,
   "metadata": {},
   "outputs": [
    {
     "name": "stdout",
     "output_type": "stream",
     "text": [
      "pytorch: 1.1816024780273438 ms\n",
      "torch.Size([100, 14700, 1])\n"
     ]
    }
   ],
   "source": [
    "# %%timeit\n",
    "probR_origin = deepcopy(probR)\n",
    "start_time = time.time()\n",
    "probR      = probR.unsqueeze_(dim=0).repeat_interleave(C, dim=0) # (C, D*M*S, 1)\n",
    "print('pytorch:',(time.time() - start_time)*1000, 'ms')\n",
    "print(probR.shape)\n",
    "probR = probR_origin"
   ]
  },
  {
   "cell_type": "code",
   "execution_count": 73,
   "metadata": {},
   "outputs": [
    {
     "name": "stdout",
     "output_type": "stream",
     "text": [
      "\n",
      "new pytorch: 2.599954605102539 ms\n",
      "torch.Size([100, 14700, 1])\n"
     ]
    }
   ],
   "source": [
    "print()\n",
    "start_time = time.time()\n",
    "probR = probR.repeat(C, 1, 1)\n",
    "print('new pytorch:',(time.time() - start_time)*1000, 'ms')\n",
    "print(probR.shape)"
   ]
  },
  {
   "cell_type": "code",
   "execution_count": 74,
   "metadata": {},
   "outputs": [
    {
     "name": "stdout",
     "output_type": "stream",
     "text": [
      "(14700, 15)\n",
      "numpy: 25.178194046020508 ms\n",
      "(100, 14700, 15)\n"
     ]
    }
   ],
   "source": [
    "seqC_     = seqC.numpy()\n",
    "print(seqC_.shape)\n",
    "start_time = time.time()\n",
    "x_seqC    = np.repeat(seqC_[np.newaxis, :, :], C, axis=0) # (C, D*M*S, 15)\n",
    "print('numpy:', (time.time() - start_time)*1000, 'ms')\n",
    "print(x_seqC.shape)"
   ]
  },
  {
   "cell_type": "code",
   "execution_count": 75,
   "metadata": {},
   "outputs": [
    {
     "name": "stdout",
     "output_type": "stream",
     "text": [
      "\n",
      "torch.Size([14700, 15])\n",
      "pytorch: 24.032115936279297 ms\n",
      "torch.Size([100, 14700, 15])\n"
     ]
    }
   ],
   "source": [
    "print()\n",
    "print(seqC.shape)\n",
    "start_time = time.time()\n",
    "x_seqC    = seqC.unsqueeze_(dim=0).repeat_interleave(C, dim=0) # (C, D*M*S, 15)\n",
    "print('pytorch:',(time.time() - start_time)*1000, 'ms')\n",
    "print(x_seqC.shape)"
   ]
  },
  {
   "cell_type": "code",
   "execution_count": 76,
   "metadata": {},
   "outputs": [
    {
     "name": "stdout",
     "output_type": "stream",
     "text": [
      "torch.Size([100, 14700, 1])\n",
      "numpy: 74.1569995880127 ms\n",
      "(100, 14700, 1)\n"
     ]
    }
   ],
   "source": [
    "print(probR.shape)\n",
    "probR_ = probR.numpy()\n",
    "start_time = time.time()\n",
    "x_choice  = np.random.binomial(1, probR_) # (C, D*M*S, 1)\n",
    "print('numpy:', (time.time() - start_time)*1000, 'ms')\n",
    "print(x_choice.shape)"
   ]
  },
  {
   "cell_type": "code",
   "execution_count": 77,
   "metadata": {},
   "outputs": [
    {
     "name": "stdout",
     "output_type": "stream",
     "text": [
      "\n",
      "torch.Size([100, 14700, 1])\n",
      "torch: 28.63454818725586 ms\n",
      "torch.Size([100, 14700, 1])\n"
     ]
    }
   ],
   "source": [
    "print()\n",
    "print(probR.shape)\n",
    "start_time = time.time()\n",
    "x_choice  = torch.bernoulli(probR) # (C, D*M*S, 1)\n",
    "print('torch:', (time.time() - start_time)*1000, 'ms')\n",
    "print(x_choice.shape)"
   ]
  },
  {
   "cell_type": "code",
   "execution_count": 78,
   "metadata": {},
   "outputs": [
    {
     "name": "stdout",
     "output_type": "stream",
     "text": [
      "tensor([64.], dtype=torch.float64) tensor([0.6722], dtype=torch.float64)\n",
      "tensor([62.], dtype=torch.float64) tensor([0.6763], dtype=torch.float64)\n",
      "tensor([67.], dtype=torch.float64) tensor([0.6703], dtype=torch.float64)\n",
      "tensor([69.], dtype=torch.float64) tensor([0.6781], dtype=torch.float64)\n",
      "tensor([70.], dtype=torch.float64) tensor([0.6724], dtype=torch.float64)\n",
      "tensor([72.], dtype=torch.float64) tensor([0.6740], dtype=torch.float64)\n",
      "tensor([65.], dtype=torch.float64) tensor([0.6703], dtype=torch.float64)\n",
      "tensor([74.], dtype=torch.float64) tensor([0.6744], dtype=torch.float64)\n",
      "tensor([67.], dtype=torch.float64) tensor([0.6740], dtype=torch.float64)\n",
      "tensor([64.], dtype=torch.float64) tensor([0.6740], dtype=torch.float64)\n",
      "tensor([63.], dtype=torch.float64) tensor([0.6763], dtype=torch.float64)\n",
      "tensor([60.], dtype=torch.float64) tensor([0.6740], dtype=torch.float64)\n",
      "tensor([64.], dtype=torch.float64) tensor([0.6724], dtype=torch.float64)\n",
      "tensor([69.], dtype=torch.float64) tensor([0.6703], dtype=torch.float64)\n",
      "tensor([71.], dtype=torch.float64) tensor([0.6740], dtype=torch.float64)\n"
     ]
    }
   ],
   "source": [
    "for i in range(15):\n",
    "    print(sum(x_choice[:,i]), probR[:,i][0])"
   ]
  },
  {
   "cell_type": "code",
   "execution_count": 79,
   "metadata": {},
   "outputs": [
    {
     "data": {
      "text/plain": [
       "(torch.Size([100, 14700, 15]), torch.Size([100, 14700, 1]))"
      ]
     },
     "execution_count": 79,
     "metadata": {},
     "output_type": "execute_result"
    }
   ],
   "source": [
    "x_seqC.shape, x_choice.shape"
   ]
  },
  {
   "cell_type": "code",
   "execution_count": 80,
   "metadata": {},
   "outputs": [
    {
     "name": "stdout",
     "output_type": "stream",
     "text": [
      "numpy 43.585777282714844\n",
      "(100, 14700, 16)\n"
     ]
    }
   ],
   "source": [
    "start_time = time.time()\n",
    "x         = np.concatenate([x_seqC, x_choice], axis=-1)\n",
    "print('numpy', end=' ')\n",
    "print((time.time() - start_time)*1000)\n",
    "print(x.shape)"
   ]
  },
  {
   "cell_type": "code",
   "execution_count": 81,
   "metadata": {},
   "outputs": [
    {
     "name": "stdout",
     "output_type": "stream",
     "text": [
      "\n",
      "torch 44.75593566894531\n",
      "torch.Size([100, 14700, 16])\n"
     ]
    }
   ],
   "source": [
    "print()\n",
    "start_time = time.time()\n",
    "x         = torch.cat([x_seqC, x_choice], dim=-1)\n",
    "print('torch', end=' ')\n",
    "print((time.time() - start_time)*1000)\n",
    "print(x.shape)"
   ]
  },
  {
   "cell_type": "code",
   "execution_count": 82,
   "metadata": {},
   "outputs": [
    {
     "name": "stdout",
     "output_type": "stream",
     "text": [
      "\n",
      "numpy 4.783868789672852\n"
     ]
    }
   ],
   "source": [
    "print()\n",
    "start_time = time.time()\n",
    "theta_repeat = np.repeat(theta[np.newaxis, :], C, axis=0) # (C, 4)\n",
    "print('numpy', end=' ')\n",
    "print((time.time() - start_time)*1000)"
   ]
  },
  {
   "cell_type": "code",
   "execution_count": 83,
   "metadata": {},
   "outputs": [
    {
     "name": "stdout",
     "output_type": "stream",
     "text": [
      "torch 0.5629062652587891\n"
     ]
    }
   ],
   "source": [
    "start_time = time.time()\n",
    "theta = theta.unsqueeze_(dim=0).repeat_interleave(C, dim=0) # (C, 4)\n",
    "print('torch', end=' ')\n",
    "print((time.time() - start_time)*1000)"
   ]
  },
  {
   "cell_type": "code",
   "execution_count": 104,
   "metadata": {},
   "outputs": [
    {
     "name": "stdout",
     "output_type": "stream",
     "text": [
      "numpy 110.42022705078125\n"
     ]
    }
   ],
   "source": [
    "# Shuffle x along the 2nd axis\n",
    "start_time = time.time()\n",
    "x_batch = np.stack([x[i][np.random.permutation(x.shape[1])] for i in range(x.shape[0])])\n",
    "print('numpy', end=' ')\n",
    "print((time.time() - start_time)*1000)"
   ]
  },
  {
   "cell_type": "code",
   "execution_count": 107,
   "metadata": {},
   "outputs": [
    {
     "name": "stdout",
     "output_type": "stream",
     "text": [
      "torch 59.11993980407715\n"
     ]
    }
   ],
   "source": [
    "# Shuffle x along the 2nd axis\n",
    "start_time = time.time()\n",
    "# x.apply_(lambda y: y.random_(0, x.shape[1]), dim=1)\n",
    "rand_indices = torch.stack([torch.randperm(x.shape[1]) for _ in range(x.shape[0])])\n",
    "x.scatter_(1, rand_indices.unsqueeze(-1).expand_as(x), x.gather(1, rand_indices.unsqueeze(-1).expand_as(x)))\n",
    "print('torch', end=' ')\n",
    "print((time.time() - start_time)*1000)"
   ]
  },
  {
   "cell_type": "code",
   "execution_count": 108,
   "metadata": {},
   "outputs": [
    {
     "name": "stdout",
     "output_type": "stream",
     "text": [
      "torch 88.34052085876465\n"
     ]
    }
   ],
   "source": [
    "# Shuffle x along the 2nd axis\n",
    "start_time = time.time()\n",
    "x = torch.stack([x[i][torch.randperm(x.shape[1])] for i in range(x.shape[0])])\n",
    "print('torch', end=' ')\n",
    "print((time.time() - start_time)*1000)"
   ]
  },
  {
   "attachments": {},
   "cell_type": "markdown",
   "metadata": {},
   "source": [
    "## preprocess seqC and store into the disk"
   ]
  },
  {
   "cell_type": "code",
   "execution_count": 56,
   "metadata": {},
   "outputs": [
    {
     "name": "stdout",
     "output_type": "stream",
     "text": [
      "1.67 ms ± 465 µs per loop (mean ± std. dev. of 7 runs, 1000 loops each)\n"
     ]
    }
   ],
   "source": [
    "%%timeit\n",
    "dataset_path = '../../data/dataset/dataset_L0_exp_set_0.h5'\n",
    "# process and write the dataset\n",
    "with h5py.File(dataset_path, 'r+') as f:\n",
    "        \n",
    "    seqC = f['set_2']['seqC']\n",
    "\n",
    "    seqC_normed = process_x_seqC_part(\n",
    "        seqC                = seqC, \n",
    "        seqC_process        = 'norm',\n",
    "        nan2num             = -1,\n",
    "        summary_type        = 0,\n",
    "    )\n",
    "    the_shape = seqC_normed.shape\n",
    "    seqC_normed = seqC_normed.reshape(the_shape[0]*the_shape[1]*the_shape[2], the_shape[3])\n",
    "        "
   ]
  },
  {
   "cell_type": "code",
   "execution_count": 8,
   "metadata": {},
   "outputs": [],
   "source": [
    "dataset_path = '../../data/dataset/dataset_L0_exp_set_0.h5'\n",
    "# process and write the dataset\n",
    "with h5py.File(dataset_path, 'r+') as f:\n",
    "\n",
    "    set_list = list(f.keys())\n",
    "    print(\"preprocessing the seqC ...\")\n",
    "    \n",
    "    for one_set in tqdm(set_list):\n",
    "            \n",
    "        seqC = f[one_set]['seqC']\n",
    "\n",
    "        seqC_normed = process_x_seqC_part(\n",
    "            seqC                = seqC, \n",
    "            seqC_process        = 'norm',\n",
    "            nan2num             = -1,\n",
    "            summary_type        = 0,\n",
    "        )\n",
    "        the_shape = seqC_normed.shape\n",
    "        seqC_normed = seqC_normed.reshape(the_shape[0]*the_shape[1]*the_shape[2], the_shape[3])\n",
    "        \n",
    "        seqC_summary_0 = process_x_seqC_part(\n",
    "            seqC                = seqC, \n",
    "            seqC_process        = 'summary',\n",
    "            nan2num             = -1,\n",
    "            summary_type        = 0,\n",
    "        )\n",
    "        \n",
    "        the_shape = seqC_summary_0.shape\n",
    "        seqC_summary_0 = seqC_summary_0.reshape(the_shape[0]*the_shape[1]*the_shape[2], the_shape[3])\n",
    "\n",
    "        seqC_summary_1 = process_x_seqC_part(\n",
    "            seqC                = seqC, \n",
    "            seqC_process        = 'summary',\n",
    "            nan2num             = -1,\n",
    "            summary_type        = 1,\n",
    "        )\n",
    "\n",
    "        the_shape = seqC_summary_1.shape\n",
    "        seqC_summary_1 = seqC_summary_1.reshape(the_shape[0]*the_shape[1]*the_shape[2], the_shape[3])\n",
    "\n",
    "        if 'seqC_normed' in f[one_set].keys(): #update the dataset\n",
    "            f[one_set].pop('seqC_normed')\n",
    "            f[one_set].pop('seqC_summary_0')\n",
    "            f[one_set].pop('seqC_summary_1')\n",
    "        \n",
    "        f[one_set].create_dataset('seqC_normed', data=seqC_normed)    \n",
    "        f[one_set].create_dataset('seqC_summary_0', data=seqC_summary_0)\n",
    "        f[one_set].create_dataset('seqC_summary_1', data=seqC_summary_1)"
   ]
  },
  {
   "cell_type": "code",
   "execution_count": 6,
   "metadata": {},
   "outputs": [],
   "source": [
    "# # remove the dataset of seqC_normed in the h5 file\n",
    "# f = h5py.File(dataset_path, 'r')\n",
    "# set_list = list(f.keys())\n",
    "# one_set = set_list[0]\n",
    "# del f[one_set]['seqC_normed']\n",
    "\n",
    "f.close()"
   ]
  },
  {
   "cell_type": "code",
   "execution_count": 20,
   "metadata": {},
   "outputs": [
    {
     "name": "stdout",
     "output_type": "stream",
     "text": [
      "(50, 15) (50, 15) (50, 11) (50, 8)\n"
     ]
    },
    {
     "data": {
      "image/png": "[encoded data removed]",
      "text/plain": [
       "<Figure size 600x500 with 4 Axes>"
      ]
     },
     "metadata": {},
     "output_type": "display_data"
    }
   ],
   "source": [
    "f = h5py.File(dataset_path, 'r')\n",
    "f['set_0'].keys()\n",
    "seqC_demo = f['set_0']['seqC'][0, 0, :50, :]\n",
    "seqC_normed_demo = f['set_0']['seqC_normed'][:50, :]\n",
    "seqC_summary_0_demo = f['set_0']['seqC_summary_0'][:50, :]\n",
    "seqC_summary_1_demo = f['set_0']['seqC_summary_1'][:50, :]\n",
    "\n",
    "print(seqC_demo.shape, seqC_normed_demo.shape, seqC_summary_0_demo.shape, seqC_summary_1_demo.shape)\n",
    "fig, axes = plt.subplots(1, 4, figsize=(6, 5))\n",
    "axes[0].imshow(seqC_demo)\n",
    "axes[1].imshow(seqC_normed_demo)\n",
    "axes[2].imshow(seqC_summary_0_demo)\n",
    "axes[3].imshow(seqC_summary_1_demo)\n",
    "f.close()"
   ]
  },
  {
   "attachments": {},
   "cell_type": "markdown",
   "metadata": {},
   "source": [
    "## check dataset"
   ]
  },
  {
   "cell_type": "code",
   "execution_count": 2,
   "metadata": {},
   "outputs": [
    {
     "data": {
      "text/plain": [
       "<KeysViewHDF5 ['set_0', 'set_1', 'set_10', 'set_11', 'set_12', 'set_14', 'set_15', 'set_16', 'set_17', 'set_18']>"
      ]
     },
     "execution_count": 2,
     "metadata": {},
     "output_type": "execute_result"
    }
   ],
   "source": [
    "dataset_path = '../../data/dataset/dataset_L0_exp_set_0_test.h5'\n",
    "f = h5py.File(dataset_path, 'r')\n",
    "f.keys()"
   ]
  },
  {
   "cell_type": "code",
   "execution_count": 20,
   "metadata": {},
   "outputs": [
    {
     "data": {
      "text/plain": [
       "array([0.5, 0.1, 0.1, 0. , 0. , 0. , 0. , 0. , 0. , 0. , 0. , 0. , 0. ,\n",
       "       0. , 0. ])"
      ]
     },
     "execution_count": 20,
     "metadata": {},
     "output_type": "execute_result"
    }
   ],
   "source": [
    "seqC_demo = f['set_0']['seqC_normed'][:]\n",
    "seqC_demo[:2100, :][-1,:]"
   ]
  },
  {
   "cell_type": "code",
   "execution_count": 81,
   "metadata": {},
   "outputs": [
    {
     "data": {
      "text/plain": [
       "(7, 3, 700)"
      ]
     },
     "execution_count": 81,
     "metadata": {},
     "output_type": "execute_result"
    }
   ],
   "source": [
    "D, M, S = f['set_0']['seqC'].shape[:-1]\n",
    "D, M, S"
   ]
  },
  {
   "cell_type": "code",
   "execution_count": 46,
   "metadata": {},
   "outputs": [
    {
     "data": {
      "text/plain": [
       "(array([    0.,  2100.,  4200.,  8400., 10500., 12600.]),\n",
       " array([ 2100.,  4200.,  6300., 10500., 12600., 14700.]))"
      ]
     },
     "execution_count": 46,
     "metadata": {},
     "output_type": "execute_result"
    }
   ],
   "source": [
    "starting_idxs, ending_idxs"
   ]
  },
  {
   "cell_type": "code",
   "execution_count": 53,
   "metadata": {},
   "outputs": [
    {
     "name": "stdout",
     "output_type": "stream",
     "text": [
      "[6300 6301 6302 ... 8397 8398 8399]\n"
     ]
    }
   ],
   "source": []
  },
  {
   "cell_type": "code",
   "execution_count": null,
   "metadata": {},
   "outputs": [],
   "source": []
  }
 ],
 "metadata": {
  "kernelspec": {
   "display_name": "Python 3",
   "language": "python",
   "name": "python3"
  },
  "language_info": {
   "codemirror_mode": {
    "name": "ipython",
    "version": 3
   },
   "file_extension": ".py",
   "mimetype": "text/x-python",
   "name": "python",
   "nbconvert_exporter": "python",
   "pygments_lexer": "ipython3",
   "version": "3.11.3"
  }
 },
 "nbformat": 4,
 "nbformat_minor": 0
}
