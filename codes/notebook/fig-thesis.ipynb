{
 "cells": [
  {
   "cell_type": "code",
   "execution_count": 72,
   "metadata": {},
   "outputs": [
    {
     "data": {
      "text/plain": [
       "PosixPath('/Users/admin/Library/CloudStorage/GoogleDrive-wenjhe@ethz.ch/My Drive/02_Master_NSC/02_2023FS/NSC')"
      ]
     },
     "execution_count": 72,
     "metadata": {},
     "output_type": "execute_result"
    }
   ],
   "source": [
    "from pathlib import Path\n",
    "# current path\n",
    "path = Path().absolute()\n",
    "path = path.parents[0]"
   ]
  },
  {
   "cell_type": "markdown",
   "metadata": {},
   "source": [
    "## gaussian distribution"
   ]
  },
  {
   "cell_type": "code",
   "execution_count": 75,
   "metadata": {},
   "outputs": [
    {
     "data": {
      "image/png": "[encoded data removed]",
      "text/plain": [
       "<Figure size 800x400 with 1 Axes>"
      ]
     },
     "metadata": {
      "needs_background": "light"
     },
     "output_type": "display_data"
    }
   ],
   "source": [
    "import matplotlib.pyplot as plt\n",
    "import numpy as np\n",
    "from scipy.stats import norm\n",
    "\n",
    "# Generate some data\n",
    "np.random.seed(0)\n",
    "data = np.random.randn(1000)\n",
    "\n",
    "# Calculate the PDF over a range of values\n",
    "x = np.linspace(-5, 5, 100)\n",
    "y = norm.pdf(x, 0, 1)  # mean=0, std=1\n",
    "\n",
    "# Create a new figure and set the facecolor to none (transparent)\n",
    "fig = plt.figure(facecolor='none', figsize=(8, 4))\n",
    "ax = fig.add_subplot(111)\n",
    "\n",
    "# Plot the Gaussian distribution curve\n",
    "ax.plot(x, y, 'k', linewidth=3)\n",
    "\n",
    "# Draw a vertical line at x = 1\n",
    "ax.axvline(x=1.2, color='gray', linestyle='--')\n",
    "ax.axvline(x=0, color='gray', linestyle='--')\n",
    "\n",
    "# Fill the area under the curve for x > 1\n",
    "x_fill = np.linspace(1.2, 5, 100)\n",
    "y_fill = norm.pdf(x_fill, 0, 1)\n",
    "ax.fill_between(x_fill, y_fill, color='gray', alpha=0.5)\n",
    "\n",
    "# draw a bi-directional arrow from x=0 to x=1\n",
    "\n",
    "# annotate the sigma values\n",
    "ax.annotate('$\\mathbf{var}_{last}$', xy=(0.5, 0.1), xytext=(0, 0.285),)\n",
    "ax.arrow(0, 0.27, 0.65, 0, head_width=0.02, head_length=0.2, fc='k', ec='k')\n",
    "\n",
    "\n",
    "# Remove the background\n",
    "ax.set_facecolor('none')\n",
    "# remove the ticks\n",
    "ax.tick_params(axis='both', which='both', length=0)\n",
    "# set x=0 with x tick label a\n",
    "ax.set_xticks([0, 1])\n",
    "ax.set_xticklabels([\"$\\mathbf{a}_{last}$\", 'b'])\n",
    "\n",
    "# Hide the axis labels and grid\n",
    "ax.set_yticklabels([])\n",
    "ax.grid(False)\n",
    "\n",
    "# Show the plot\n",
    "plt.show()\n",
    "\n",
    "# save the plot \n",
    "fig.savefig(path /'docs/thesis-ann-inference/fig/model/gaussian-distribution.pdf', transparent=False)"
   ]
  },
  {
   "cell_type": "code",
   "execution_count": 67,
   "metadata": {},
   "outputs": [
    {
     "name": "stdout",
     "output_type": "stream",
     "text": [
      "/Users/admin/Library/CloudStorage/GoogleDrive-wenjhe@ethz.ch/My Drive/02_Master_NSC/02_2023FS/NSC/figures\n"
     ]
    }
   ],
   "source": [
    "!pwd"
   ]
  }
 ],
 "metadata": {
  "kernelspec": {
   "display_name": "Python 3 (ipykernel)",
   "language": "python",
   "name": "python3"
  },
  "language_info": {
   "codemirror_mode": {
    "name": "ipython",
    "version": 3
   },
   "file_extension": ".py",
   "mimetype": "text/x-python",
   "name": "python",
   "nbconvert_exporter": "python",
   "pygments_lexer": "ipython3",
   "version": "3.9.16"
  }
 },
 "nbformat": 4,
 "nbformat_minor": 2
}
