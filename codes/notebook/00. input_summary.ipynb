{
 "cells": [
  {
   "cell_type": "code",
   "execution_count": 1,
   "metadata": {},
   "outputs": [],
   "source": [
    "# magic command to reload modules\n",
    "%load_ext autoreload\n",
    "%autoreload 2"
   ]
  },
  {
   "cell_type": "code",
   "execution_count": 2,
   "metadata": {},
   "outputs": [],
   "source": [
    "# append sys.path\n",
    "import sys\n",
    "sys.path.append('../src')\n",
    "\n",
    "from pathlib import Path\n",
    "\n",
    "import numpy as np\n",
    "import matplotlib.pyplot as plt\n",
    "\n",
    "from simulator.DM_model import DM_model\n",
    "from parse_data.decode_parameter import decode_mat_fitted_parameters\n",
    "from parse_data.parse_trial_data import parse_trial_data, compute_subject_acc, correctness_of_array\n",
    "import os"
   ]
  },
  {
   "cell_type": "code",
   "execution_count": 3,
   "metadata": {},
   "outputs": [],
   "source": [
    "import matplotlib as mpl\n",
    "# remove top and right axis from plots\n",
    "mpl.rcParams[\"axes.spines.right\"] = True\n",
    "mpl.rcParams[\"axes.spines.top\"] = True\n",
    "\n",
    "# remove all edges\n",
    "mpl.rcParams[\"axes.edgecolor\"] = \"k\"\n",
    "mpl.rcParams['axes.linewidth'] = 2\n",
    "\n",
    "font = {'family' : 'normal',\n",
    "        'weight' : 'bold',\n",
    "        'size'   : 22}\n",
    "mpl.rc('font', **font)"
   ]
  },
  {
   "cell_type": "code",
   "execution_count": 4,
   "metadata": {},
   "outputs": [
    {
     "name": "stdout",
     "output_type": "stream",
     "text": [
      "/Volumes/GoogleDrive/My Drive/02. Master_NSC/02. 2023FS/NSC_Thesis/codes/notebook\r\n"
     ]
    }
   ],
   "source": [
    "!pwd"
   ]
  },
  {
   "attachments": {},
   "cell_type": "markdown",
   "metadata": {},
   "source": [
    "## decode parameter from .mat file"
   ]
  },
  {
   "cell_type": "code",
   "execution_count": 5,
   "metadata": {},
   "outputs": [],
   "source": [
    "# load .mat file\n",
    "filePath = Path('../../data/params/263 models fitPars/data_fitPars_S1.mat')\n",
    "paramsFitted = decode_mat_fitted_parameters(filePath)"
   ]
  },
  {
   "cell_type": "code",
   "execution_count": 6,
   "metadata": {},
   "outputs": [
    {
     "data": {
      "text/plain": "dict_keys(['bias', 'sigmas', 'BGLS', 'mechanismsMatrix', 'probRchoiceStoch', 'allModelsList'])"
     },
     "execution_count": 6,
     "metadata": {},
     "output_type": "execute_result"
    }
   ],
   "source": [
    "paramsFitted.keys()"
   ]
  },
  {
   "cell_type": "code",
   "execution_count": 34,
   "metadata": {},
   "outputs": [],
   "source": [
    "idx = 136\n",
    "\n",
    "seqC1 = [0, 0.4, -0.4]\n",
    "seqC2 = [0, 0.1, -0.1]\n",
    "seqC3 = [0, -0.2, -0.2, 0.2, -0.2, 0.2, 0.2, 0, -0.2, 0.2, -0.2, 0, -0.2, 0, -0.2]\n",
    "seqC4 = [0, 0.1, 0, 0.1, 0.1, -0.1, -0.1, -0.1, 0.1, 0, -0.1, 0.1, 0, 0, 0]"
   ]
  },
  {
   "cell_type": "code",
   "execution_count": 40,
   "metadata": {},
   "outputs": [
    {
     "name": "stdout",
     "output_type": "stream",
     "text": [
      "Model: G6\n"
     ]
    }
   ],
   "source": [
    "params = {}\n",
    "params['bias']   = paramsFitted['bias'][idx]\n",
    "params['sigmas'] = paramsFitted['sigmas'][idx,:]\n",
    "params['BGLS']   = paramsFitted['BGLS'][idx, :, :]\n",
    "params['modelName'] = paramsFitted['allModelsList'][idx]\n",
    "print('Model: ' + paramsFitted['allModelsList'][idx])\n",
    "# print(params['BGLS'])"
   ]
  },
  {
   "cell_type": "code",
   "execution_count": 41,
   "metadata": {},
   "outputs": [],
   "source": [
    "model = BGLS_stoc_model(params=params)\n",
    "a1, probR1 = model.stoch_simulation(seqC1)\n",
    "# a2, probR2 = model.stoch_simulation(seqC2)\n",
    "# a3, probR3 = model.stoch_simulation(seqC3)\n",
    "# a4, probR4 = model.stoch_simulation(seqC4)"
   ]
  },
  {
   "attachments": {},
   "cell_type": "markdown",
   "metadata": {},
   "source": [
    "## 设置seeds 正态分布"
   ]
  },
  {
   "cell_type": "code",
   "execution_count": 61,
   "metadata": {},
   "outputs": [
    {
     "data": {
      "text/plain": [
       "array([ 0.28497976, -0.95784781, -0.16096872,  0.73642013, -0.53789345])"
      ]
     },
     "execution_count": 61,
     "metadata": {},
     "output_type": "execute_result"
    }
   ],
   "source": [
    "from scipy.stats import norm\n",
    "np.random.seed(111)\n",
    "norm.ppf(np.random.rand(5))"
   ]
  },
  {
   "cell_type": "code",
   "execution_count": 62,
   "metadata": {},
   "outputs": [
    {
     "data": {
      "text/plain": [
       "array([-1.0400301 , -2.00505985, -0.20131921, -0.71054815, -0.4188683 ])"
      ]
     },
     "execution_count": 62,
     "metadata": {},
     "output_type": "execute_result"
    }
   ],
   "source": [
    "norm.ppf(np.random.rand(5))"
   ]
  },
  {
   "cell_type": "code",
   "execution_count": 64,
   "metadata": {},
   "outputs": [
    {
     "data": {
      "text/plain": [
       "array([-0.713635])"
      ]
     },
     "execution_count": 64,
     "metadata": {},
     "output_type": "execute_result"
    }
   ],
   "source": [
    "rn = norm.ppf(np.random.rand(1))\n",
    "rn"
   ]
  },
  {
   "cell_type": "code",
   "execution_count": 56,
   "metadata": {},
   "outputs": [
    {
     "data": {
      "image/png": "[encoded data removed]",
      "text/plain": [
       "<Figure size 640x480 with 1 Axes>"
      ]
     },
     "metadata": {
      "needs_background": "light"
     },
     "output_type": "display_data"
    }
   ],
   "source": [
    "import matplotlib.pyplot as plt\n",
    "import numpy as np\n",
    "\n",
    "# generate data\n",
    "x = np.linspace(-5, 7, 1000)\n",
    "y1 = 0.3*np.exp(-0.5 * ((x - (-2)) / 1)**2) / np.sqrt(2*np.pi)\n",
    "y2 = 0.4*np.exp(-0.5 * ((x - 0) / 0.5)**2) / np.sqrt(2*np.pi)\n",
    "y3 = 0.3*np.exp(-0.5 * ((x - 2) / 1.5)**2) / np.sqrt(2*np.pi)\n",
    "ysum = y1 + y2 + y3\n",
    "\n",
    "# plot Gaussian distributions and their summation\n",
    "fig, ax = plt.subplots()\n",
    "ax.plot(x, y1, label='Gaussian 1',color='k', linewidth=3, linestyle='--')\n",
    "ax.plot(x, y2, label='Gaussian 2',color='k', linewidth=3, linestyle='--')\n",
    "ax.plot(x, y3, label='Gaussian 3',color='k', linewidth=3, linestyle='--')\n",
    "ax.plot(x, ysum, label='Sum of Gaussians',color='k', linewidth=5)\n",
    "# ax.legend()\n",
    "ax.set_xlim([-5,7])\n",
    "# show plot\n",
    "ax.axis('off')\n",
    "# set tranparent background\n",
    "fig.patch.set_facecolor('none')\n",
    "plt.show()"
   ]
  },
  {
   "cell_type": "code",
   "execution_count": 45,
   "metadata": {},
   "outputs": [
    {
     "data": {
      "image/png": "[encoded data removed]",
      "text/plain": [
       "<Figure size 640x480 with 1 Axes>"
      ]
     },
     "metadata": {},
     "output_type": "display_data"
    }
   ],
   "source": [
    "# generate data\n",
    "mu, sigma = -1, 1\n",
    "x = np.linspace(mu - 3*sigma, mu + 3*sigma, 1000)\n",
    "y = np.exp(-0.5 * ((x - mu) / sigma)**2)\n",
    "y1 = y / (sigma * np.sqrt(2*np.pi))\n",
    "\n",
    "mu, sigma = 0, 0.8\n",
    "x = np.linspace(mu - 3*sigma, mu + 3*sigma, 1000)\n",
    "y = np.exp(-0.5 * ((x - mu) / sigma)**2)\n",
    "y2 = y / (sigma * np.sqrt(2*np.pi))\n",
    "\n",
    "mu, sigma = 1, 0.3\n",
    "x = np.linspace(mu - 3*sigma, mu + 3*sigma, 1000)\n",
    "y = np.exp(-0.5 * ((x - mu) / sigma)**2)\n",
    "y3 = y / (sigma * np.sqrt(2*np.pi))\n",
    "\n",
    "# plot Gaussian\n",
    "fig, ax = plt.subplots()\n",
    "ax.plot(x, y1+y2+y3, 'k', linewidth=6, label='Gaussian')\n",
    "ax.set_xlim([-3, 3])\n",
    "ax.axis('off')\n",
    "# set tranparent background\n",
    "fig.patch.set_facecolor('none')\n",
    "\n",
    "# show plot\n",
    "plt.show()"
   ]
  },
  {
   "attachments": {},
   "cell_type": "markdown",
   "metadata": {},
   "source": [
    "## load trial data and generate input pattern summary"
   ]
  },
  {
   "cell_type": "code",
   "execution_count": 78,
   "metadata": {},
   "outputs": [],
   "source": [
    "from parse_data.parse_trial_data import parse_trial_data\n",
    "trial = parse_trial_data('../../data/trials.mat')\n",
    "\n",
    "idx, _ = np.where(trial['subjID'] == 1)"
   ]
  },
  {
   "cell_type": "code",
   "execution_count": 79,
   "metadata": {},
   "outputs": [
    {
     "data": {
      "text/plain": [
       "((14994, 11), (14994, 8))"
      ]
     },
     "execution_count": 79,
     "metadata": {},
     "output_type": "execute_result"
    }
   ],
   "source": [
    "_dur = trial['dur'][idx]\n",
    "_nLeft = trial['nLeft'][idx]\n",
    "_nRight = trial['nRight'][idx]\n",
    "\n",
    "dur = (trial['dur'][idx] -1) / 14\n",
    "nLeft = trial['nLeft'][idx] / 14\n",
    "nRight = trial['nRight'][idx] / 14\n",
    "nPulse = (_dur-_nLeft-_nRight-1) / 14\n",
    "hist_nLsame = trial['hist_nLsame'][idx]/(_dur-1)\n",
    "hist_nLoppo = trial['hist_nLoppo'][idx]/(_dur-1)\n",
    "hist_nLelse = trial['hist_nLelse'][idx]/(_dur-1)\n",
    "hist_nRsame = trial['hist_nRsame'][idx]/(_dur-1)\n",
    "hist_nRoppo = trial['hist_nRoppo'][idx]/(_dur-1)\n",
    "hist_nRelse = trial['hist_nRelse'][idx]/(_dur-1)\n",
    "\n",
    "hist_nSame = hist_nLsame + hist_nRsame\n",
    "hist_nOppo = hist_nLoppo + hist_nRoppo\n",
    "hist_nElse = hist_nLelse + hist_nRelse\n",
    "\n",
    "x1 = np.hstack((trial['MS'][idx], dur, nLeft, nRight, nPulse, hist_nLsame, hist_nLoppo, hist_nLelse, hist_nRsame, hist_nRoppo, hist_nRelse))\n",
    "x2 = np.hstack((trial['MS'][idx], dur, nLeft, nRight, nPulse, hist_nSame, hist_nOppo, hist_nElse))\n",
    "x1.shape, x2.shape"
   ]
  },
  {
   "cell_type": "code",
   "execution_count": 80,
   "metadata": {},
   "outputs": [
    {
     "data": {
      "text/plain": [
       "array([[  0. ,  -0.2,  -0.2, ..., 100. , 100. , 100. ],\n",
       "       [  0. ,   0. ,   0.1, ..., 100. , 100. , 100. ],\n",
       "       [  0. ,   0.2,   0.2, ..., 100. , 100. , 100. ],\n",
       "       ...,\n",
       "       [  0. ,  -0.2,   0.2, ...,  -0.2,   0.2,  -0.2],\n",
       "       [  0. ,   0. ,   0.1, ...,  -0.1,  -0.1,   0. ],\n",
       "       [  0. ,   0. ,  -0.4, ...,   0. ,   0.4,   0.4]])"
      ]
     },
     "execution_count": 80,
     "metadata": {},
     "output_type": "execute_result"
    }
   ],
   "source": [
    "np.nan_to_num(trial['pulse'][idx], nan=100)"
   ]
  },
  {
   "cell_type": "code",
   "execution_count": 81,
   "metadata": {},
   "outputs": [
    {
     "data": {
      "text/plain": [
       "((6116,), (4188,), (10049,))"
      ]
     },
     "execution_count": 81,
     "metadata": {},
     "output_type": "execute_result"
    }
   ],
   "source": [
    "uniques1, counts1 =np.unique(x1, axis=0, return_counts=True)\n",
    "uniques2, counts2 =np.unique(x2, axis=0, return_counts=True)\n",
    "uniques3, counts3 =np.unique(np.nan_to_num(trial['pulse'][idx], nan=100), axis=0, return_counts=True)\n",
    "counts1.shape, counts2.shape, counts3.shape"
   ]
  },
  {
   "cell_type": "code",
   "execution_count": 33,
   "metadata": {},
   "outputs": [
    {
     "data": {
      "image/png": "[encoded data removed]",
      "text/plain": [
       "<Figure size 800x500 with 1 Axes>"
      ]
     },
     "metadata": {},
     "output_type": "display_data"
    }
   ],
   "source": [
    "# two subplots\n",
    "f, ax = plt.subplots(1, figsize=(8,5))\n",
    "ax.hist(counts3, bins=50, alpha=0.5, label='use seqC')\n",
    "ax.hist(counts1, bins=50, alpha=0.5, label='L/R')\n",
    "ax.hist(counts2, bins=50, alpha=0.5, label='Combine LR')\n",
    "\n",
    "# ax1.plot(counts1)\n",
    "# ax.plot(counts2)\n",
    "\n",
    "ax.set_yscale('log')\n",
    "\n",
    "ax.set_xlabel('appearance of similar model counts')\n",
    "ax.set_ylabel('log(counts)')\n",
    "# ax.set_ylabel('log(counts)')\n",
    "\n",
    "ax.grid(alpha=0.2)\n",
    "\n",
    "ax.legend()\n",
    "\n",
    "plt.subplots_adjust(hspace=0.3)"
   ]
  },
  {
   "attachments": {},
   "cell_type": "markdown",
   "metadata": {},
   "source": [
    "## 数据信息提取 summary input data (general case)"
   ]
  },
  {
   "cell_type": "code",
   "execution_count": 7,
   "metadata": {},
   "outputs": [
    {
     "data": {
      "text/plain": "array([[ 0.  ,  0.  , -0.16, -0.16,  0.16,   nan,   nan,   nan,   nan,\n          nan,   nan,   nan,   nan,   nan,   nan],\n       [ 0.  , -0.  ,  0.16,  0.16,  0.16, -0.  ,  0.  ,  0.16, -0.16,\n          nan,   nan,   nan,   nan,   nan,   nan]])"
     },
     "execution_count": 7,
     "metadata": {},
     "output_type": "execute_result"
    }
   ],
   "source": [
    "import numpy as np\n",
    "\n",
    "seqC = np.array([[0, 0.4, -0.4, 0.4, 0.4, np.nan, np.nan, np.nan, np.nan, np.nan, np.nan, np.nan, np.nan, np.nan, np.nan],\n",
    "                 [0, -0.4, -0.4, -0.4, -0.4, 0, 0.4, 0.4, -0.4, np.nan, np.nan, np.nan, np.nan, np.nan, np.nan]])\n",
    "\n",
    "roll_value = 0\n",
    "seqCrolled = np.roll(seqC, 1, axis=1)\n",
    "seqCrolled[:, 0] = roll_value\n",
    "seqCrolled = seqC * seqCrolled\n",
    "\n",
    "seqCrolled"
   ]
  },
  {
   "cell_type": "code",
   "execution_count": 8,
   "metadata": {},
   "outputs": [
    {
     "data": {
      "text/plain": "(array([[0.4       , 0.28571429, 0.07142857, 0.21428571, 0.        ,\n         0.        , 0.25      , 0.        , 0.25      , 0.25      ,\n         0.25      ],\n        [0.2       , 0.57142857, 0.35714286, 0.14285714, 0.07142857,\n         0.375     , 0.125     , 0.125     , 0.125     , 0.        ,\n         0.125     ]]),\n array([[0.4       , 0.28571429, 0.07142857, 0.21428571, 0.        ,\n         0.25      , 0.5       , 0.25      ],\n        [0.2       , 0.57142857, 0.35714286, 0.14285714, 0.07142857,\n         0.5       , 0.125     , 0.25      ]]))"
     },
     "execution_count": 8,
     "metadata": {},
     "output_type": "execute_result"
    }
   ],
   "source": [
    "import numpy as np\n",
    "\n",
    "seqC = np.array([[0, 0.4, -0.4, 0.4, 0.4, np.nan, np.nan, np.nan, np.nan, np.nan, np.nan, np.nan, np.nan, np.nan, np.nan],\n",
    "                 [0, -0.2, -0.2, -0.2, -0.2, 0, 0.2, 0.2, -0.2, np.nan, np.nan, np.nan, np.nan, np.nan, np.nan]])\n",
    "\n",
    "# seqC = trial['pulse'][:2,:]\n",
    "\n",
    "MS      = np.apply_along_axis(lambda x: np.unique(np.abs(x[(~np.isnan(x))&(x!=0)])), axis=1, arr=seqC).reshape(-1)\n",
    "_dur    = np.apply_along_axis(lambda x: np.sum(~np.isnan(x)), axis=1, arr=seqC)\n",
    "_nLeft  = np.apply_along_axis(lambda x: np.sum(x<0), axis=1, arr=seqC)\n",
    "_nRight = np.apply_along_axis(lambda x: np.sum(x>0), axis=1, arr=seqC)\n",
    "_nPulse = _dur - _nLeft - _nRight\n",
    "\n",
    "hist_nSame  = np.apply_along_axis(lambda x: np.sum(x*np.append(0, x[0:-1])>0), axis=1, arr=seqC)/(_dur-1)\n",
    "hist_nLsame = np.apply_along_axis(lambda x: np.sum((x*np.append(0, x[0:-1])>0) & (x<0)), axis=1, arr=seqC)/(_dur-1)\n",
    "hist_nRsame = np.apply_along_axis(lambda x: np.sum((x*np.append(0, x[0:-1])>0) & (x>0)), axis=1, arr=seqC)/(_dur-1)\n",
    "\n",
    "hist_nOppo  = np.apply_along_axis(lambda x: np.sum(x*np.append(0, x[0:-1])<0), axis=1, arr=seqC)/(_dur-1)\n",
    "hist_nLoppo = np.apply_along_axis(lambda x: np.sum((x*np.append(0, x[0:-1])<0) & (x<0)), axis=1, arr=seqC)/(_dur-1)\n",
    "hist_nRoppo = np.apply_along_axis(lambda x: np.sum((x*np.append(0, x[0:-1])<0) & (x>0)), axis=1, arr=seqC)/(_dur-1)\n",
    "\n",
    "hist_nElse  = np.apply_along_axis(lambda x: np.sum( (x*np.append(0, x[0:-1])==0) & (x!=0) ), axis=1, arr=seqC)/(_dur-1)\n",
    "hist_nLelse = np.apply_along_axis(lambda x: np.sum( (x*np.append(0, x[0:-1])==0) & (x<0) ), axis=1, arr=seqC)/(_dur-1)\n",
    "hist_nRelse = np.apply_along_axis(lambda x: np.sum( (x*np.append(0, x[0:-1])==0) & (x>0) ), axis=1, arr=seqC)/(_dur-1)\n",
    "\n",
    "dur     = (_dur-1)/14\n",
    "nLeft   = _nLeft/14\n",
    "nRight  = _nRight/14\n",
    "nPulse  = (_dur-1-_nLeft-_nRight)/14\n",
    "\n",
    "x1 = np.vstack((MS, dur, nLeft, nRight, nPulse, hist_nLsame, hist_nLoppo, hist_nLelse, hist_nRsame, hist_nRoppo, hist_nRelse)).T\n",
    "x2 = np.vstack((MS, dur, nLeft, nRight, nPulse, hist_nSame, hist_nOppo, hist_nElse)).T\n",
    "x1, x2"
   ]
  },
  {
   "attachments": {},
   "cell_type": "markdown",
   "metadata": {},
   "source": [
    "## test sequence_pattern_summary function output"
   ]
  },
  {
   "cell_type": "code",
   "execution_count": 10,
   "metadata": {},
   "outputs": [
    {
     "data": {
      "text/plain": "array([[0.4       , 0.28571429, 0.07142857, 0.21428571, 0.        ,\n        0.25      , 0.5       , 0.25      ],\n       [0.2       , 0.57142857, 0.35714286, 0.14285714, 0.07142857,\n        0.5       , 0.125     , 0.25      ]])"
     },
     "execution_count": 10,
     "metadata": {},
     "output_type": "execute_result"
    }
   ],
   "source": [
    "from dataset.seqC_pattern_summary import *\n",
    "seqC_pattern_summary(seqC, summaryType=2)"
   ]
  },
  {
   "cell_type": "code",
   "execution_count": 11,
   "metadata": {},
   "outputs": [],
   "source": [
    "from parse_data.parse_trial_data import parse_trial_data\n",
    "trial = parse_trial_data('../../data/trials.mat')\n",
    "\n",
    "idx, _ = np.where(trial['subjID'] == 1)\n",
    "seqC = trial['pulse'][idx]"
   ]
  },
  {
   "cell_type": "code",
   "execution_count": 12,
   "metadata": {},
   "outputs": [],
   "source": [
    "x_c = seqC_pattern_summary(seqC, summaryType=2)"
   ]
  },
  {
   "cell_type": "code",
   "execution_count": 18,
   "outputs": [
    {
     "data": {
      "text/plain": "(15,)"
     },
     "execution_count": 18,
     "metadata": {},
     "output_type": "execute_result"
    }
   ],
   "source": [],
   "metadata": {
    "collapsed": false
   }
  },
  {
   "cell_type": "code",
   "execution_count": null,
   "outputs": [],
   "source": [],
   "metadata": {
    "collapsed": false
   }
  }
 ],
 "metadata": {
  "kernelspec": {
   "display_name": "sbi",
   "language": "python",
   "name": "python3"
  },
  "language_info": {
   "codemirror_mode": {
    "name": "ipython",
    "version": 3
   },
   "file_extension": ".py",
   "mimetype": "text/x-python",
   "name": "python",
   "nbconvert_exporter": "python",
   "pygments_lexer": "ipython3",
   "version": "3.7.16"
  },
  "orig_nbformat": 4,
  "vscode": {
   "interpreter": {
    "hash": "594f951d3205a9849f51a997523cd1c1a299b5c52dda351e48e92277503e7015"
   }
  }
 },
 "nbformat": 4,
 "nbformat_minor": 2
}
