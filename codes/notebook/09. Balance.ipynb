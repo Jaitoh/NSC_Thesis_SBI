{
 "cells": [
  {
   "cell_type": "markdown",
   "metadata": {},
   "source": [
    "Balance the dataset"
   ]
  },
  {
   "cell_type": "code",
   "execution_count": 88,
   "metadata": {},
   "outputs": [
    {
     "name": "stdout",
     "output_type": "stream",
     "text": [
      "The autoreload extension is already loaded. To reload it, use:\n",
      "  %reload_ext autoreload\n"
     ]
    }
   ],
   "source": [
    "\n",
    "# magic command to reload modules\n",
    "%load_ext autoreload\n",
    "%autoreload 2\n",
    "import torch\n",
    "import numpy as np\n",
    "from tensorboard.backend.event_processing.event_accumulator import EventAccumulator\n",
    "from pathlib import Path\n",
    "import sys\n",
    "import os\n",
    "import h5py\n",
    "\n",
    "NSC_DIR = Path(os.getcwd()).resolve().parent.parent.as_posix()  # NSC dir\n",
    "sys.path.append(f\"{NSC_DIR}/codes/src\")\n",
    "from utils.setup import adapt_path\n",
    "\n",
    "import matplotlib.pyplot as plt\n",
    "from tqdm import tqdm   \n",
    "import random"
   ]
  },
  {
   "cell_type": "markdown",
   "metadata": {},
   "source": [
    "check distribution of the datasets"
   ]
  },
  {
   "cell_type": "code",
   "execution_count": 147,
   "metadata": {},
   "outputs": [],
   "source": [
    "data_path =f\"{NSC_DIR}/data/dataset/dataset-L0-Eset0-100sets-T500.h5\"\n",
    "f = h5py.File(data_path, 'r')\n",
    "\n",
    "f_feature_path = f'{NSC_DIR}/data/dataset/feature-L0-Eset0-100sets-T500-C100.h5'\n",
    "f_feature = h5py.File(f_feature_path, 'r')\n"
   ]
  },
  {
   "cell_type": "code",
   "execution_count": 148,
   "metadata": {},
   "outputs": [
    {
     "data": {
      "text/plain": [
       "(0.0, 1.0)"
      ]
     },
     "execution_count": 148,
     "metadata": {},
     "output_type": "execute_result"
    },
    {
     "data": {
      "image/png": "[encoded data removed]",
      "text/plain": [
       "<Figure size 640x480 with 1 Axes>"
      ]
     },
     "metadata": {},
     "output_type": "display_data"
    }
   ],
   "source": [
    "pR = f['set_1']['probR'][:]\n",
    "_=plt.hist(pR[:,:,:,15].reshape(-1), bins=100)\n",
    "plt.xlim(0,1)"
   ]
  },
  {
   "cell_type": "markdown",
   "metadata": {},
   "source": [
    "find with a bin size of 0.1\n",
    "how many values can be in each bin"
   ]
  },
  {
   "cell_type": "code",
   "execution_count": 149,
   "metadata": {},
   "outputs": [
    {
     "name": "stderr",
     "output_type": "stream",
     "text": [
      "  2%|▏         | 2/100 [00:00<00:05, 17.46it/s]"
     ]
    },
    {
     "name": "stderr",
     "output_type": "stream",
     "text": [
      "100%|██████████| 100/100 [00:05<00:00, 17.90it/s]"
     ]
    },
    {
     "name": "stdout",
     "output_type": "stream",
     "text": [
      "minimum bin number is 3\n",
      "[4, 8, 8, 6, 8, 10, 9, 8, 8, 5, 8, 7, 6, 6, 7, 3, 7, 9, 8, 3, 3, 6, 8, 4, 10, 8, 3, 8, 5, 8, 7, 8, 4, 8, 6, 7, 6, 5, 7, 7, 8, 7, 6, 7, 7, 3, 5, 8, 7, 4, 6, 4, 7, 5, 7, 6, 8, 3, 8, 7, 7, 6, 6, 9, 8, 7, 5, 5, 5, 3, 5, 8, 8, 8, 6, 6, 9, 4, 8, 6, 6, 7, 6, 8, 6, 4, 6, 7, 5, 5, 5, 5, 7, 5, 8, 4, 9, 6, 7, 5]\n"
     ]
    },
    {
     "name": "stderr",
     "output_type": "stream",
     "text": [
      "\n"
     ]
    }
   ],
   "source": [
    "n_bins = 20\n",
    "min_collect = []\n",
    "for i in tqdm(range(100)):\n",
    "    pR = f[f'set_{i}']['probR'][:]\n",
    "    means = [np.mean(pR[:,:,:, i]) for i in range(500)]\n",
    "    bins = np.histogram(means, bins=n_bins)\n",
    "    min_collect.append(min(bins[0]))\n",
    "print('minimum bin number is', min(min_collect))\n",
    "print(min_collect)"
   ]
  },
  {
   "cell_type": "code",
   "execution_count": 150,
   "metadata": {},
   "outputs": [
    {
     "name": "stderr",
     "output_type": "stream",
     "text": [
      "  0%|          | 0/100 [00:00<?, ?it/s]"
     ]
    },
    {
     "name": "stderr",
     "output_type": "stream",
     "text": [
      "100%|██████████| 100/100 [00:09<00:00, 10.01it/s]\n"
     ]
    }
   ],
   "source": [
    "# define the bins and the interval\n",
    "interval = 1/n_bins\n",
    "bins_start = np.arange(0, 1, interval)\n",
    "bins_end = bins_start + interval\n",
    "\n",
    "n_select = 3\n",
    "nT = n_select * n_bins\n",
    "# total number of samples will be n_select * n_bins\n",
    "new_data = f\"{NSC_DIR}/data/dataset/dataset-L0-Eset0-100sets-T{nT}-B{n_bins}.h5\"\n",
    "f_feature_new_path = f'{NSC_DIR}/data/dataset/feature-L0-Eset0-100sets-T{nT}-C100-B{n_bins}.h5'\n",
    "f_new = h5py.File(new_data, 'w')\n",
    "f_feature_new = h5py.File(f_feature_new_path, 'w')\n",
    "\n",
    "for i in tqdm(range(100)):\n",
    "    \n",
    "    # get the mean of each set for each T value\n",
    "    pR = f[f'set_{i}']['probR'][:]\n",
    "    means = [np.mean(pR[:,:,:, i]) for i in range(500)]\n",
    "\n",
    "    # balance through subsampling for each bin\n",
    "    # get the indexes of theta, that produce results in the bins\n",
    "    chosen_indexes = []\n",
    "    for bins_start_value, bins_end_value in zip(bins_start, bins_end):\n",
    "        filtered_indexes = [i for i, value in enumerate(means) if bins_start_value <= value <= bins_end_value]\n",
    "        random_indexes = random.sample(filtered_indexes, n_select)\n",
    "        chosen_indexes.extend(random_indexes)\n",
    "    # sort the indexes\n",
    "    chosen_indexes.sort()\n",
    "    \n",
    "    pR_chosen = f[f'set_{i}']['probR'][:,:,:, chosen_indexes]\n",
    "    theta_chosen = f[f'set_{i}']['theta'][chosen_indexes, :]\n",
    "\n",
    "    dataset_group = f_new.create_group(f'set_{i}')\n",
    "    dataset_group.create_dataset('probR', data=pR_chosen)\n",
    "    dataset_group.create_dataset('theta', data=theta_chosen)\n",
    "    dataset_group.create_dataset('seqC', data=f[f'set_{i}']['seqC'])\n",
    "    \n",
    "    feature_group = f_feature_new.create_group(f'set_{i}')\n",
    "    feature_group.create_dataset('feature_1', data=f_feature[f'set_{i}']['feature_1'][chosen_indexes, :])\n",
    "    feature_group.create_dataset('feature_2', data=f_feature[f'set_{i}']['feature_2'][chosen_indexes, :])\n",
    "    feature_group.create_dataset('feature_3', data=f_feature[f'set_{i}']['feature_3'][chosen_indexes, :])\n",
    "    feature_group.create_dataset('feature_4', data=f_feature[f'set_{i}']['feature_4'][chosen_indexes, :])\n",
    "    feature_group.create_dataset('feature_5', data=f_feature[f'set_{i}']['feature_5'][chosen_indexes, :])\n",
    "    feature_group.create_dataset('theta', data=f_feature[f'set_{i}']['theta'][chosen_indexes, :])\n",
    "f_new.close()\n",
    "f_feature_new.close()"
   ]
  },
  {
   "cell_type": "code",
   "execution_count": 151,
   "metadata": {},
   "outputs": [
    {
     "name": "stderr",
     "output_type": "stream",
     "text": [
      "  0%|          | 0/100 [00:00<?, ?it/s]"
     ]
    },
    {
     "name": "stderr",
     "output_type": "stream",
     "text": [
      "100%|██████████| 100/100 [00:00<00:00, 401.33it/s]\n"
     ]
    },
    {
     "data": {
      "image/png": "[encoded data removed]",
      "text/plain": [
       "<Figure size 640x480 with 1 Axes>"
      ]
     },
     "metadata": {},
     "output_type": "display_data"
    }
   ],
   "source": [
    "# check the resulting mean pR distribution\n",
    "pR_collect = []\n",
    "for i in tqdm(range(100)):\n",
    "    probR = f_new[f'set_{i}']['probR'][:]\n",
    "    pR_collect.append(probR.reshape(-1))\n",
    "_ = plt.hist(pR_collect, bins=100)"
   ]
  },
  {
   "cell_type": "code",
   "execution_count": null,
   "metadata": {},
   "outputs": [],
   "source": []
  },
  {
   "cell_type": "markdown",
   "metadata": {},
   "source": [
    "Train based on the new balanced dataset"
   ]
  },
  {
   "cell_type": "code",
   "execution_count": null,
   "metadata": {},
   "outputs": [],
   "source": [
    "f"
   ]
  }
 ],
 "metadata": {
  "kernelspec": {
   "display_name": "Python 3",
   "language": "python",
   "name": "python3"
  },
  "language_info": {
   "codemirror_mode": {
    "name": "ipython",
    "version": 3
   },
   "file_extension": ".py",
   "mimetype": "text/x-python",
   "name": "python",
   "nbconvert_exporter": "python",
   "pygments_lexer": "ipython3",
   "version": "3.10.12"
  }
 },
 "nbformat": 4,
 "nbformat_minor": 0
}
